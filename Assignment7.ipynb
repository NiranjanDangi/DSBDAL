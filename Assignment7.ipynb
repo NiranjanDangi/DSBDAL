{
 "cells": [
  {
   "cell_type": "markdown",
   "id": "577f13c8-542c-42c8-8531-34e5b7aab626",
   "metadata": {},
   "source": [
    "### Assignment 7 : Text Analytics"
   ]
  },
  {
   "cell_type": "markdown",
   "id": "ee6d071d-82ee-40e9-871e-b1a9efa26c86",
   "metadata": {},
   "source": [
    "#### 7.1 Extract Sample document and apply following document preprocessing methods: Tokenization, POS Tagging, stop words removal, Stemming and Lemmatization.\n",
    "#### 7.2 Create representation of document by calculating Term Frequency and Inverse Document Frequency"
   ]
  },
  {
   "cell_type": "markdown",
   "id": "6aac0980-6230-4832-8b32-dccba3005356",
   "metadata": {},
   "source": [
    "#### Text Preprocessing :"
   ]
  },
  {
   "cell_type": "code",
   "execution_count": 1,
   "id": "c3ec798f-7776-4eea-8926-aa735e8b8e53",
   "metadata": {},
   "outputs": [
    {
     "name": "stdout",
     "output_type": "stream",
     "text": [
      "Requirement already satisfied: nltk in /Users/niranjan/Documents/venv/lib/python3.9/site-packages (3.9.1)\n",
      "Requirement already satisfied: joblib in /Users/niranjan/Documents/venv/lib/python3.9/site-packages (from nltk) (1.4.2)\n",
      "Requirement already satisfied: regex>=2021.8.3 in /Users/niranjan/Documents/venv/lib/python3.9/site-packages (from nltk) (2024.11.6)\n",
      "Requirement already satisfied: tqdm in /Users/niranjan/Documents/venv/lib/python3.9/site-packages (from nltk) (4.67.1)\n",
      "Requirement already satisfied: click in /Users/niranjan/Documents/venv/lib/python3.9/site-packages (from nltk) (8.1.8)\n",
      "\u001b[33mWARNING: You are using pip version 21.2.4; however, version 25.0.1 is available.\n",
      "You should consider upgrading via the '/Users/niranjan/Documents/venv/bin/python3 -m pip install --upgrade pip' command.\u001b[0m\n"
     ]
    }
   ],
   "source": [
    "!pip install nltk"
   ]
  },
  {
   "cell_type": "code",
   "execution_count": 2,
   "id": "47ab4c4f-640a-4082-8b36-3ba31e466e4d",
   "metadata": {},
   "outputs": [
    {
     "name": "stderr",
     "output_type": "stream",
     "text": [
      "[nltk_data] Downloading package punkt_tab to\n",
      "[nltk_data]     /Users/niranjan/nltk_data...\n",
      "[nltk_data]   Package punkt_tab is already up-to-date!\n"
     ]
    },
    {
     "data": {
      "text/plain": [
       "True"
      ]
     },
     "execution_count": 2,
     "metadata": {},
     "output_type": "execute_result"
    }
   ],
   "source": [
    "import re, math, nltk\n",
    "nltk.download('punkt_tab')"
   ]
  },
  {
   "cell_type": "code",
   "execution_count": 3,
   "id": "29908ea9-79e6-4a20-802e-aa3509dc66a0",
   "metadata": {},
   "outputs": [],
   "source": [
    "with open('doc_01.txt','r') as file:\n",
    "    doc = file.read()\n",
    "with open('doc_02.txt','r') as file:\n",
    "    doc2 = file.read()"
   ]
  },
  {
   "cell_type": "markdown",
   "id": "b3415f88-a6cc-4f6a-b88e-4d5d1ad51994",
   "metadata": {},
   "source": [
    "####  7.1 Extract Sample document and apply following document preprocessing methods: Tokenization, POS Tagging, stop words removal, Stemming and Lemmatization."
   ]
  },
  {
   "cell_type": "markdown",
   "id": "aa52b57a-b5b9-4ca4-90e9-e73122f48919",
   "metadata": {},
   "source": [
    "#### Tokenization : Breaking down text into individual words or tokens"
   ]
  },
  {
   "cell_type": "code",
   "execution_count": 4,
   "id": "ad29af79-c7d4-43d9-b19d-301cc1ba38c5",
   "metadata": {},
   "outputs": [
    {
     "name": "stdout",
     "output_type": "stream",
     "text": [
      "['Between', '2016', 'and', '2019', ',', 'the', 'state', 'forest', 'department', 'under', 'the', 'BJP', 'government', 'had', 'launched', '‘', 'Green', 'Maharashtra', '’', 'drive', 'with', 'an', 'aim', 'to', 'plant', '50', 'crore', 'trees', 'across', 'the', 'state', 'in', 'the', 'four-year', 'period', '.', 'In', 'October', '2019', ',', 'the', 'government', 'had', 'claimed', 'it', 'had', 'surpassed', 'the', 'target', 'by', 'planting', '33', 'crore', 'trees', 'in', 'July-September', '2019', '.', 'The', 'Indian', 'Express', 'had', 'found', 'that', 'non-forest', 'agencies', '—', 'such', 'as', 'gram', 'panchayats', '—', 'which', 'were', 'tasked', 'with', 'planting', 'trees', 'had', 'not', 'uploaded', 'the', 'mandatory', 'audio-visual', 'proof', 'of', 'the', 'tree', 'plantation', 'drives', 'on', 'the', 'specially', 'created', 'portal', '.', 'In', 'Pune', 'Revenue', 'Division', ',', 'it', 'was', 'claimed', 'the', 'gram', 'panchayats', 'planted', '1.7', 'crore', 'saplings', ';', 'however', ',', 'no', 'evidence', 'was', 'uploaded', 'for', '87', 'per', 'cent', '(', '1.49', 'crore', ')', 'saplings', '.', 'Also', ',', 'out', 'of', 'the', '59', 'government', 'agencies', 'involved', 'in', 'the', 'drive', 'as', 'many', 'as', '38', 'had', 'not', 'submitted', 'survival', 'reports', 'about', 'the', 'saplings', '.', 'This', 'year', ',', 'the', 'targets', 'set', 'by', 'the', 'forest', 'department', 'were', 'comparatively', 'modest', '.', 'For', 'example', ',', 'Pune', 'Circle', '—', 'which', 'comprises', 'three', 'divisions', 'in', 'Pune', 'and', 'Solapur', 'district', '—', 'had', 'planned', 'to', 'plant', '17', 'lakh', 'saplings', 'on', 'forest', 'land', '.', 'However', ',', 'it', 'may', 'not', 'meet', 'the', 'target', 'due', 'to', 'unavailability', 'of', 'funds', '.', 'Last', 'year', 'Pune', 'Circle', 'planted', '70', 'lakh', 'saplings', 'on', 'forest', 'land', '.', 'In', 'Pune', 'Division', '—', 'which', 'comprises', 'six', 'talukas', 'namely', 'Maval', ',', 'Mulshi', ',', 'Daund', ',', 'Indapur', ',', 'Baramati', 'and', 'Havveli', '—', 'preparations', 'were', 'done', 'for', 'plantation', 'of', 'about', '4', 'lakh', 'trees', 'with', 'special', 'emphasis', 'on', 'teakwood', '.', 'The', 'National', 'Forest', 'Policy', 'aims', 'and', 'emphasizes', 'at', 'maintaining', '33', '%', 'of', 'the', 'country', '’', 's', 'geographical', 'area', 'under', 'forest', 'and', 'green', 'cover', '.', 'In', 'view', 'of', 'this', 'and', 'as', 'a', 'part', 'of', 'the', '50', 'crore', 'plantation', 'programme', 'within', 'Maharashtra', ',', 'the', 'Maharashtra', 'Forest', 'Department', 'aims', 'to', 'plant', '4', 'crore', 'saplings', 'all', 'over', 'the', 'State', 'between', '1st', 'to', 'July', '7th', ',', '2017', 'to', 'celebrate', '‘', 'Vanmohotsav', '’', '.', 'The', 'plantation', 'programme', ',', 'which', 'was', 'announced', 'in', '2016', 'with', 'the', 'aim', 'of', 'planting', '2', 'crore', 'trees', 'on', '1st', 'July', '2016', 'was', 'a', 'resounding', 'success', 'with', 'the', 'final', 'total', 'reported', 'figure', 'of', '2.82', 'crore', 'saplings', 'planted', 'on', 'a', 'single', 'day', '.', 'To', 'maintain', 'consistency', 'of', 'this', 'platform', 'without', 'affecting', 'its', 'momentum', ',', 'the', 'Forest', 'Department', 'has', 'set', 'the', 'target', 'of', 'plantation', 'of', '4', 'crore', ',', '13', 'crore', 'and', '33', 'crore', 'saplings', 'under', 'the', 'mission', 'of', '50', 'crore', 'plantation', 'which', 'shall', 'be', 'accomplished', 'in', 'the', 'three', 'consecutive', 'years', 'viz', '.', '2017', ',', '2018', 'and', '2019', '.', 'The', '4', 'crore', 'saplings', 'for', 'the', 'year', '2017', 'will', 'be', 'planted', 'during', 'the', 'Vanmohotsav', ',', 'July', '1st', 'to', 'July', '7th', 'in', 'a', 'state-wide', 'drive', 'with', 'the', 'involvement', 'of', '33', 'government', 'departments', 'along', 'with', 'Students', 'of', 'Schools', 'and', 'Colleges', ',', 'NSS', ',', 'NCC', ',', 'CSR', ',', 'NGOs', ',', 'Railways', ',', 'National', 'Highways', ',', 'Defence', ',', 'NABARD', 'and', 'other', 'stakeholders', 'of', 'Society', '.', 'In', 'a', 'first', 'of', 'its', 'kind', ',', 'a', '24-hour', 'toll', 'free', 'helpline', 'number', '1926', 'called', '‘', 'Hello', 'Forest', '’', 'has', 'been', 'set', 'up', 'to', 'provide', 'information', 'regarding', 'plantation', ',', 'protection', 'and', 'for', 'mass', 'awareness', '.', 'The', 'Forest', 'Department', 'has', 'created', 'a', 'mobile', 'application', 'called', '‘', 'My', 'Plants', '’', 'to', 'record', 'details', 'of', 'the', 'plantation', 'such', 'as', 'numbers', ',', 'species', 'and', 'location', 'into', 'the', 'computer', 'system', 'of', 'the', 'Forest', 'Department', '.', 'All', 'volunteers', 'at', 'individual', ',', 'collective', 'and', 'organizational', 'level', 'should', 'download', 'and', 'use', 'this', 'application', 'to', 'record', 'their', 'tree', 'plantation', 'work', 'through', 'the', 'application', ',', 'which', 'will', 'be', 'operational', 'from', '1st', 'July', 'to', '7th', 'July', '.', 'In', 'consonance', 'of', 'the', 'public', 'participation', ',', 'the', 'Maharashtra', 'Forest', 'Department', 'has', 'initiated', 'the', '‘', 'Maharashtra', 'Harit', 'Sena', '’', '/', '‘', 'Green', 'Army', '’', 'which', 'is', 'a', 'body', 'of', 'dedicated', 'volunteers', 'to', 'participate', 'in', 'the', 'plantation', ',', 'protection', ',', 'and', 'activities', 'in', 'forest', ',', 'wildlife', ',', 'and', 'related', 'sectors', 'around', 'the', 'year', '.', 'Individuals', 'and', 'organisations', 'interested', 'in', 'volunteering', 'can', 'register', 'on', 'the', 'Green', 'Army', 'website', 'www.greenarmy.mahaforest.gov.in', 'An', 'integrated', 'drive', 'has', 'been', 'set', 'in', 'place', 'to', 'ensure', 'seamless', 'and', 'successful', 'participation', 'from', 'all', 'stakeholders', 'of', 'society', ',', 'especially', 'the', 'public', '.']\n"
     ]
    }
   ],
   "source": [
    "word_tokens = nltk.word_tokenize(doc)\n",
    "print(word_tokens)"
   ]
  },
  {
   "cell_type": "markdown",
   "id": "a53536ad-a333-4113-b721-daf7f2f7d05c",
   "metadata": {},
   "source": [
    "#### Stop Words : They are words like is,are etc which are not useful in text analysis, hence they can be removed"
   ]
  },
  {
   "cell_type": "code",
   "execution_count": 5,
   "id": "36fccf7f-32d4-4592-a3b3-ad0ca12887fe",
   "metadata": {},
   "outputs": [
    {
     "name": "stdout",
     "output_type": "stream",
     "text": [
      "['Between', '2016', '2019', ',', 'state', 'forest', 'department', 'BJP', 'government', 'launched', '‘', 'Green', 'Maharashtra', '’', 'drive', 'aim', 'plant', '50', 'crore', 'trees', 'across', 'state', 'four-year', 'period', '.', 'In', 'October', '2019', ',', 'government', 'claimed', 'surpassed', 'target', 'planting', '33', 'crore', 'trees', 'July-September', '2019', '.', 'The', 'Indian', 'Express', 'found', 'non-forest', 'agencies', '—', 'gram', 'panchayats', '—', 'tasked', 'planting', 'trees', 'uploaded', 'mandatory', 'audio-visual', 'proof', 'tree', 'plantation', 'drives', 'specially', 'created', 'portal', '.', 'In', 'Pune', 'Revenue', 'Division', ',', 'claimed', 'gram', 'panchayats', 'planted', '1.7', 'crore', 'saplings', ';', 'however', ',', 'evidence', 'uploaded', '87', 'per', 'cent', '(', '1.49', 'crore', ')', 'saplings', '.', 'Also', ',', '59', 'government', 'agencies', 'involved', 'drive', 'many', '38', 'submitted', 'survival', 'reports', 'saplings', '.', 'This', 'year', ',', 'targets', 'set', 'forest', 'department', 'comparatively', 'modest', '.', 'For', 'example', ',', 'Pune', 'Circle', '—', 'comprises', 'three', 'divisions', 'Pune', 'Solapur', 'district', '—', 'planned', 'plant', '17', 'lakh', 'saplings', 'forest', 'land', '.', 'However', ',', 'may', 'meet', 'target', 'due', 'unavailability', 'funds', '.', 'Last', 'year', 'Pune', 'Circle', 'planted', '70', 'lakh', 'saplings', 'forest', 'land', '.', 'In', 'Pune', 'Division', '—', 'comprises', 'six', 'talukas', 'namely', 'Maval', ',', 'Mulshi', ',', 'Daund', ',', 'Indapur', ',', 'Baramati', 'Havveli', '—', 'preparations', 'done', 'plantation', '4', 'lakh', 'trees', 'special', 'emphasis', 'teakwood', '.', 'The', 'National', 'Forest', 'Policy', 'aims', 'emphasizes', 'maintaining', '33', '%', 'country', '’', 'geographical', 'area', 'forest', 'green', 'cover', '.', 'In', 'view', 'part', '50', 'crore', 'plantation', 'programme', 'within', 'Maharashtra', ',', 'Maharashtra', 'Forest', 'Department', 'aims', 'plant', '4', 'crore', 'saplings', 'State', '1st', 'July', '7th', ',', '2017', 'celebrate', '‘', 'Vanmohotsav', '’', '.', 'The', 'plantation', 'programme', ',', 'announced', '2016', 'aim', 'planting', '2', 'crore', 'trees', '1st', 'July', '2016', 'resounding', 'success', 'final', 'total', 'reported', 'figure', '2.82', 'crore', 'saplings', 'planted', 'single', 'day', '.', 'To', 'maintain', 'consistency', 'platform', 'without', 'affecting', 'momentum', ',', 'Forest', 'Department', 'set', 'target', 'plantation', '4', 'crore', ',', '13', 'crore', '33', 'crore', 'saplings', 'mission', '50', 'crore', 'plantation', 'shall', 'accomplished', 'three', 'consecutive', 'years', 'viz', '.', '2017', ',', '2018', '2019', '.', 'The', '4', 'crore', 'saplings', 'year', '2017', 'planted', 'Vanmohotsav', ',', 'July', '1st', 'July', '7th', 'state-wide', 'drive', 'involvement', '33', 'government', 'departments', 'along', 'Students', 'Schools', 'Colleges', ',', 'NSS', ',', 'NCC', ',', 'CSR', ',', 'NGOs', ',', 'Railways', ',', 'National', 'Highways', ',', 'Defence', ',', 'NABARD', 'stakeholders', 'Society', '.', 'In', 'first', 'kind', ',', '24-hour', 'toll', 'free', 'helpline', 'number', '1926', 'called', '‘', 'Hello', 'Forest', '’', 'set', 'provide', 'information', 'regarding', 'plantation', ',', 'protection', 'mass', 'awareness', '.', 'The', 'Forest', 'Department', 'created', 'mobile', 'application', 'called', '‘', 'My', 'Plants', '’', 'record', 'details', 'plantation', 'numbers', ',', 'species', 'location', 'computer', 'system', 'Forest', 'Department', '.', 'All', 'volunteers', 'individual', ',', 'collective', 'organizational', 'level', 'download', 'use', 'application', 'record', 'tree', 'plantation', 'work', 'application', ',', 'operational', '1st', 'July', '7th', 'July', '.', 'In', 'consonance', 'public', 'participation', ',', 'Maharashtra', 'Forest', 'Department', 'initiated', '‘', 'Maharashtra', 'Harit', 'Sena', '’', '/', '‘', 'Green', 'Army', '’', 'body', 'dedicated', 'volunteers', 'participate', 'plantation', ',', 'protection', ',', 'activities', 'forest', ',', 'wildlife', ',', 'related', 'sectors', 'around', 'year', '.', 'Individuals', 'organisations', 'interested', 'volunteering', 'register', 'Green', 'Army', 'website', 'www.greenarmy.mahaforest.gov.in', 'An', 'integrated', 'drive', 'set', 'place', 'ensure', 'seamless', 'successful', 'participation', 'stakeholders', 'society', ',', 'especially', 'public', '.']\n"
     ]
    }
   ],
   "source": [
    "stop_words = set(nltk.corpus.stopwords.words('english'))\n",
    "word_tokens = [token for token in word_tokens if token not in stop_words]\n",
    "print(word_tokens)"
   ]
  },
  {
   "cell_type": "markdown",
   "id": "7ce626db-b1eb-4eea-ba1f-d5b8203a233e",
   "metadata": {},
   "source": [
    "#### POS Tagging : Labeling each word in a sentence to it's corresponding part of speech"
   ]
  },
  {
   "cell_type": "code",
   "execution_count": 6,
   "id": "067bd5fc-d8f3-4325-a45a-d33488bc23f3",
   "metadata": {},
   "outputs": [
    {
     "name": "stdout",
     "output_type": "stream",
     "text": [
      "[('Between', 'IN'), ('2016', 'CD'), ('2019', 'CD'), (',', ','), ('state', 'NN'), ('forest', 'JJS'), ('department', 'NN'), ('BJP', 'NNP'), ('government', 'NN'), ('launched', 'VBD'), ('‘', 'NNP'), ('Green', 'NNP'), ('Maharashtra', 'NNP'), ('’', 'NNP'), ('drive', 'NN'), ('aim', 'NN'), ('plant', 'NN'), ('50', 'CD'), ('crore', 'NN'), ('trees', 'NNS'), ('across', 'IN'), ('state', 'NN'), ('four-year', 'JJ'), ('period', 'NN'), ('.', '.'), ('In', 'IN'), ('October', 'NNP'), ('2019', 'CD'), (',', ','), ('government', 'NN'), ('claimed', 'VBD'), ('surpassed', 'JJ'), ('target', 'NN'), ('planting', 'VBG'), ('33', 'CD'), ('crore', 'NN'), ('trees', 'NNS'), ('July-September', 'NNP'), ('2019', 'CD'), ('.', '.'), ('The', 'DT'), ('Indian', 'JJ'), ('Express', 'NNP'), ('found', 'VBD'), ('non-forest', 'JJS'), ('agencies', 'NNS'), ('—', 'VBP'), ('gram', 'JJ'), ('panchayats', 'NNS'), ('—', 'VBP'), ('tasked', 'VBN'), ('planting', 'NN'), ('trees', 'NNS'), ('uploaded', 'JJ'), ('mandatory', 'JJ'), ('audio-visual', 'JJ'), ('proof', 'NN'), ('tree', 'JJ'), ('plantation', 'NN'), ('drives', 'NNS'), ('specially', 'RB'), ('created', 'VBD'), ('portal', 'JJ'), ('.', '.'), ('In', 'IN'), ('Pune', 'NNP'), ('Revenue', 'NNP'), ('Division', 'NNP'), (',', ','), ('claimed', 'VBD'), ('gram', 'JJ'), ('panchayats', 'NNS'), ('planted', 'VBD'), ('1.7', 'CD'), ('crore', 'NN'), ('saplings', 'NNS'), (';', ':'), ('however', 'RB'), (',', ','), ('evidence', 'NN'), ('uploaded', 'VBD'), ('87', 'CD'), ('per', 'IN'), ('cent', 'NN'), ('(', '('), ('1.49', 'CD'), ('crore', 'NN'), (')', ')'), ('saplings', 'NNS'), ('.', '.'), ('Also', 'RB'), (',', ','), ('59', 'CD'), ('government', 'NN'), ('agencies', 'NNS'), ('involved', 'VBD'), ('drive', 'JJ'), ('many', 'JJ'), ('38', 'CD'), ('submitted', 'VBD'), ('survival', 'NN'), ('reports', 'NNS'), ('saplings', 'NNS'), ('.', '.'), ('This', 'DT'), ('year', 'NN'), (',', ','), ('targets', 'NNS'), ('set', 'VBP'), ('forest', 'JJS'), ('department', 'NN'), ('comparatively', 'RB'), ('modest', 'JJ'), ('.', '.'), ('For', 'IN'), ('example', 'NN'), (',', ','), ('Pune', 'NNP'), ('Circle', 'NNP'), ('—', 'NNP'), ('comprises', 'VBZ'), ('three', 'CD'), ('divisions', 'NNS'), ('Pune', 'NNP'), ('Solapur', 'NNP'), ('district', 'NN'), ('—', 'NN'), ('planned', 'VBD'), ('plant', 'NN'), ('17', 'CD'), ('lakh', 'JJ'), ('saplings', 'NNS'), ('forest', 'JJS'), ('land', 'NN'), ('.', '.'), ('However', 'RB'), (',', ','), ('may', 'MD'), ('meet', 'VB'), ('target', 'NN'), ('due', 'JJ'), ('unavailability', 'NN'), ('funds', 'NNS'), ('.', '.'), ('Last', 'JJ'), ('year', 'NN'), ('Pune', 'NNP'), ('Circle', 'NNP'), ('planted', 'VBD'), ('70', 'CD'), ('lakh', 'JJ'), ('saplings', 'NNS'), ('forest', 'JJS'), ('land', 'NN'), ('.', '.'), ('In', 'IN'), ('Pune', 'NNP'), ('Division', 'NNP'), ('—', 'NNP'), ('comprises', 'VBZ'), ('six', 'CD'), ('talukas', 'NN'), ('namely', 'RB'), ('Maval', 'NNP'), (',', ','), ('Mulshi', 'NNP'), (',', ','), ('Daund', 'NNP'), (',', ','), ('Indapur', 'NNP'), (',', ','), ('Baramati', 'NNP'), ('Havveli', 'NNP'), ('—', 'NNP'), ('preparations', 'NNS'), ('done', 'VBN'), ('plantation', 'NN'), ('4', 'CD'), ('lakh', 'NN'), ('trees', 'NNS'), ('special', 'JJ'), ('emphasis', 'NN'), ('teakwood', 'NN'), ('.', '.'), ('The', 'DT'), ('National', 'NNP'), ('Forest', 'NNP'), ('Policy', 'NNP'), ('aims', 'VBZ'), ('emphasizes', 'VBZ'), ('maintaining', 'VBG'), ('33', 'CD'), ('%', 'NN'), ('country', 'NN'), ('’', 'NNP'), ('geographical', 'JJ'), ('area', 'NN'), ('forest', 'JJS'), ('green', 'JJ'), ('cover', 'NN'), ('.', '.'), ('In', 'IN'), ('view', 'NN'), ('part', 'NN'), ('50', 'CD'), ('crore', 'NN'), ('plantation', 'NN'), ('programme', 'NN'), ('within', 'IN'), ('Maharashtra', 'NNP'), (',', ','), ('Maharashtra', 'NNP'), ('Forest', 'NNP'), ('Department', 'NNP'), ('aims', 'VBZ'), ('plant', 'NN'), ('4', 'CD'), ('crore', 'NN'), ('saplings', 'NNS'), ('State', 'NNP'), ('1st', 'CD'), ('July', 'NNP'), ('7th', 'CD'), (',', ','), ('2017', 'CD'), ('celebrate', 'NN'), ('‘', 'NNP'), ('Vanmohotsav', 'NNP'), ('’', 'NNP'), ('.', '.'), ('The', 'DT'), ('plantation', 'NN'), ('programme', 'NN'), (',', ','), ('announced', 'VBD'), ('2016', 'CD'), ('aim', 'NN'), ('planting', 'VBG'), ('2', 'CD'), ('crore', 'NN'), ('trees', 'NNS'), ('1st', 'CD'), ('July', 'NNP'), ('2016', 'CD'), ('resounding', 'VBG'), ('success', 'NN'), ('final', 'JJ'), ('total', 'NN'), ('reported', 'VBD'), ('figure', 'NN'), ('2.82', 'CD'), ('crore', 'NN'), ('saplings', 'NNS'), ('planted', 'VBD'), ('single', 'JJ'), ('day', 'NN'), ('.', '.'), ('To', 'TO'), ('maintain', 'VB'), ('consistency', 'NN'), ('platform', 'NN'), ('without', 'IN'), ('affecting', 'VBG'), ('momentum', 'NN'), (',', ','), ('Forest', 'NNP'), ('Department', 'NNP'), ('set', 'VBD'), ('target', 'NN'), ('plantation', 'NN'), ('4', 'CD'), ('crore', 'NN'), (',', ','), ('13', 'CD'), ('crore', 'NN'), ('33', 'CD'), ('crore', 'NN'), ('saplings', 'NNS'), ('mission', 'NN'), ('50', 'CD'), ('crore', 'NN'), ('plantation', 'NN'), ('shall', 'MD'), ('accomplished', 'VB'), ('three', 'CD'), ('consecutive', 'JJ'), ('years', 'NNS'), ('viz', 'RB'), ('.', '.'), ('2017', 'CD'), (',', ','), ('2018', 'CD'), ('2019', 'CD'), ('.', '.'), ('The', 'DT'), ('4', 'CD'), ('crore', 'NN'), ('saplings', 'NNS'), ('year', 'NN'), ('2017', 'CD'), ('planted', 'VBD'), ('Vanmohotsav', 'NNP'), (',', ','), ('July', 'NNP'), ('1st', 'CD'), ('July', 'NNP'), ('7th', 'CD'), ('state-wide', 'JJ'), ('drive', 'NN'), ('involvement', 'NN'), ('33', 'CD'), ('government', 'NN'), ('departments', 'NNS'), ('along', 'IN'), ('Students', 'NNS'), ('Schools', 'NNP'), ('Colleges', 'NNP'), (',', ','), ('NSS', 'NNP'), (',', ','), ('NCC', 'NNP'), (',', ','), ('CSR', 'NNP'), (',', ','), ('NGOs', 'NNP'), (',', ','), ('Railways', 'NNP'), (',', ','), ('National', 'NNP'), ('Highways', 'NNP'), (',', ','), ('Defence', 'NNP'), (',', ','), ('NABARD', 'NNP'), ('stakeholders', 'VBZ'), ('Society', 'NNP'), ('.', '.'), ('In', 'IN'), ('first', 'JJ'), ('kind', 'NN'), (',', ','), ('24-hour', 'JJ'), ('toll', 'NN'), ('free', 'JJ'), ('helpline', 'NN'), ('number', 'NN'), ('1926', 'CD'), ('called', 'VBD'), ('‘', 'NNP'), ('Hello', 'NNP'), ('Forest', 'NNP'), ('’', 'NNP'), ('set', 'VBD'), ('provide', 'JJ'), ('information', 'NN'), ('regarding', 'VBG'), ('plantation', 'NN'), (',', ','), ('protection', 'NN'), ('mass', 'NN'), ('awareness', 'NN'), ('.', '.'), ('The', 'DT'), ('Forest', 'NNP'), ('Department', 'NNP'), ('created', 'VBD'), ('mobile', 'JJ'), ('application', 'NN'), ('called', 'VBN'), ('‘', 'NNP'), ('My', 'PRP$'), ('Plants', 'NNS'), ('’', 'VBP'), ('record', 'NN'), ('details', 'NNS'), ('plantation', 'NN'), ('numbers', 'NNS'), (',', ','), ('species', 'NNS'), ('location', 'VBP'), ('computer', 'NN'), ('system', 'NN'), ('Forest', 'NNP'), ('Department', 'NNP'), ('.', '.'), ('All', 'NNP'), ('volunteers', 'NNS'), ('individual', 'JJ'), (',', ','), ('collective', 'JJ'), ('organizational', 'JJ'), ('level', 'NN'), ('download', 'NN'), ('use', 'NN'), ('application', 'NN'), ('record', 'NN'), ('tree', 'NN'), ('plantation', 'NN'), ('work', 'NN'), ('application', 'NN'), (',', ','), ('operational', 'JJ'), ('1st', 'CD'), ('July', 'NNP'), ('7th', 'CD'), ('July', 'NNP'), ('.', '.'), ('In', 'IN'), ('consonance', 'NN'), ('public', 'JJ'), ('participation', 'NN'), (',', ','), ('Maharashtra', 'NNP'), ('Forest', 'NNP'), ('Department', 'NNP'), ('initiated', 'VBD'), ('‘', 'NNP'), ('Maharashtra', 'NNP'), ('Harit', 'NNP'), ('Sena', 'NNP'), ('’', 'NNP'), ('/', 'NNP'), ('‘', 'NNP'), ('Green', 'NNP'), ('Army', 'NNP'), ('’', 'NNP'), ('body', 'NN'), ('dedicated', 'VBD'), ('volunteers', 'NNS'), ('participate', 'JJ'), ('plantation', 'NN'), (',', ','), ('protection', 'NN'), (',', ','), ('activities', 'NNS'), ('forest', 'VBP'), (',', ','), ('wildlife', 'NN'), (',', ','), ('related', 'JJ'), ('sectors', 'NNS'), ('around', 'IN'), ('year', 'NN'), ('.', '.'), ('Individuals', 'NNS'), ('organisations', 'NNS'), ('interested', 'JJ'), ('volunteering', 'VBG'), ('register', 'NN'), ('Green', 'NNP'), ('Army', 'NNP'), ('website', 'NN'), ('www.greenarmy.mahaforest.gov.in', 'VBD'), ('An', 'DT'), ('integrated', 'JJ'), ('drive', 'NN'), ('set', 'VBN'), ('place', 'NN'), ('ensure', 'VB'), ('seamless', 'JJ'), ('successful', 'JJ'), ('participation', 'NN'), ('stakeholders', 'NNS'), ('society', 'NN'), (',', ','), ('especially', 'RB'), ('public', 'JJ'), ('.', '.')]\n"
     ]
    },
    {
     "name": "stderr",
     "output_type": "stream",
     "text": [
      "[nltk_data] Downloading package averaged_perceptron_tagger_eng to\n",
      "[nltk_data]     /Users/niranjan/nltk_data...\n",
      "[nltk_data]   Package averaged_perceptron_tagger_eng is already up-to-\n",
      "[nltk_data]       date!\n"
     ]
    }
   ],
   "source": [
    "nltk.download('averaged_perceptron_tagger_eng') # You will get error download accordingly then\n",
    "tagged = nltk.pos_tag(word_tokens);\n",
    "print(tagged)"
   ]
  },
  {
   "cell_type": "markdown",
   "id": "ab79e97c-7d04-4708-8520-6183d3e55819",
   "metadata": {},
   "source": [
    "#### Stemming : It extracts the base form of the word by removing last few words. Eg : 'eaten','eating' --> eat \n",
    "#### Lemmitization : It considers the context and converts the word to it's meaningful base form"
   ]
  },
  {
   "cell_type": "code",
   "execution_count": 7,
   "id": "d2b18444-0652-4b26-bcf6-8e8b4d35634e",
   "metadata": {},
   "outputs": [
    {
     "name": "stderr",
     "output_type": "stream",
     "text": [
      "[nltk_data] Downloading package wordnet to\n",
      "[nltk_data]     /Users/niranjan/nltk_data...\n"
     ]
    },
    {
     "name": "stdout",
     "output_type": "stream",
     "text": [
      "['Between', '2016', '2019', ',', 'state', 'forest', 'department', 'BJP', 'government', 'launched', '‘', 'Green', 'Maharashtra', '’', 'drive', 'aim', 'plant', '50', 'crore', 'tree', 'across', 'state', 'four-year', 'period', '.', 'In', 'October', '2019', ',', 'government', 'claimed', 'surpassed', 'target', 'planting', '33', 'crore', 'tree', 'July-September', '2019', '.', 'The', 'Indian', 'Express', 'found', 'non-forest', 'agency', '—', 'gram', 'panchayat', '—', 'tasked', 'planting', 'tree', 'uploaded', 'mandatory', 'audio-visual', 'proof', 'tree', 'plantation', 'drive', 'specially', 'created', 'portal', '.', 'In', 'Pune', 'Revenue', 'Division', ',', 'claimed', 'gram', 'panchayat', 'planted', '1.7', 'crore', 'sapling', ';', 'however', ',', 'evidence', 'uploaded', '87', 'per', 'cent', '(', '1.49', 'crore', ')', 'sapling', '.', 'Also', ',', '59', 'government', 'agency', 'involved', 'drive', 'many', '38', 'submitted', 'survival', 'report', 'sapling', '.', 'This', 'year', ',', 'target', 'set', 'forest', 'department', 'comparatively', 'modest', '.', 'For', 'example', ',', 'Pune', 'Circle', '—', 'comprises', 'three', 'division', 'Pune', 'Solapur', 'district', '—', 'planned', 'plant', '17', 'lakh', 'sapling', 'forest', 'land', '.', 'However', ',', 'may', 'meet', 'target', 'due', 'unavailability', 'fund', '.', 'Last', 'year', 'Pune', 'Circle', 'planted', '70', 'lakh', 'sapling', 'forest', 'land', '.', 'In', 'Pune', 'Division', '—', 'comprises', 'six', 'talukas', 'namely', 'Maval', ',', 'Mulshi', ',', 'Daund', ',', 'Indapur', ',', 'Baramati', 'Havveli', '—', 'preparation', 'done', 'plantation', '4', 'lakh', 'tree', 'special', 'emphasis', 'teakwood', '.', 'The', 'National', 'Forest', 'Policy', 'aim', 'emphasizes', 'maintaining', '33', '%', 'country', '’', 'geographical', 'area', 'forest', 'green', 'cover', '.', 'In', 'view', 'part', '50', 'crore', 'plantation', 'programme', 'within', 'Maharashtra', ',', 'Maharashtra', 'Forest', 'Department', 'aim', 'plant', '4', 'crore', 'sapling', 'State', '1st', 'July', '7th', ',', '2017', 'celebrate', '‘', 'Vanmohotsav', '’', '.', 'The', 'plantation', 'programme', ',', 'announced', '2016', 'aim', 'planting', '2', 'crore', 'tree', '1st', 'July', '2016', 'resounding', 'success', 'final', 'total', 'reported', 'figure', '2.82', 'crore', 'sapling', 'planted', 'single', 'day', '.', 'To', 'maintain', 'consistency', 'platform', 'without', 'affecting', 'momentum', ',', 'Forest', 'Department', 'set', 'target', 'plantation', '4', 'crore', ',', '13', 'crore', '33', 'crore', 'sapling', 'mission', '50', 'crore', 'plantation', 'shall', 'accomplished', 'three', 'consecutive', 'year', 'viz', '.', '2017', ',', '2018', '2019', '.', 'The', '4', 'crore', 'sapling', 'year', '2017', 'planted', 'Vanmohotsav', ',', 'July', '1st', 'July', '7th', 'state-wide', 'drive', 'involvement', '33', 'government', 'department', 'along', 'Students', 'Schools', 'Colleges', ',', 'NSS', ',', 'NCC', ',', 'CSR', ',', 'NGOs', ',', 'Railways', ',', 'National', 'Highways', ',', 'Defence', ',', 'NABARD', 'stakeholder', 'Society', '.', 'In', 'first', 'kind', ',', '24-hour', 'toll', 'free', 'helpline', 'number', '1926', 'called', '‘', 'Hello', 'Forest', '’', 'set', 'provide', 'information', 'regarding', 'plantation', ',', 'protection', 'mass', 'awareness', '.', 'The', 'Forest', 'Department', 'created', 'mobile', 'application', 'called', '‘', 'My', 'Plants', '’', 'record', 'detail', 'plantation', 'number', ',', 'specie', 'location', 'computer', 'system', 'Forest', 'Department', '.', 'All', 'volunteer', 'individual', ',', 'collective', 'organizational', 'level', 'download', 'use', 'application', 'record', 'tree', 'plantation', 'work', 'application', ',', 'operational', '1st', 'July', '7th', 'July', '.', 'In', 'consonance', 'public', 'participation', ',', 'Maharashtra', 'Forest', 'Department', 'initiated', '‘', 'Maharashtra', 'Harit', 'Sena', '’', '/', '‘', 'Green', 'Army', '’', 'body', 'dedicated', 'volunteer', 'participate', 'plantation', ',', 'protection', ',', 'activity', 'forest', ',', 'wildlife', ',', 'related', 'sector', 'around', 'year', '.', 'Individuals', 'organisation', 'interested', 'volunteering', 'register', 'Green', 'Army', 'website', 'www.greenarmy.mahaforest.gov.in', 'An', 'integrated', 'drive', 'set', 'place', 'ensure', 'seamless', 'successful', 'participation', 'stakeholder', 'society', ',', 'especially', 'public', '.']\n"
     ]
    }
   ],
   "source": [
    "nltk.download('wordnet')\n",
    "lemmatizer = nltk.stem.WordNetLemmatizer() # double m\n",
    "lemmatizer_words = [lemmatizer.lemmatize(tokens) for tokens in word_tokens]\n",
    "print(lemmatizer_words)"
   ]
  },
  {
   "cell_type": "code",
   "execution_count": 8,
   "id": "c1e06819-965b-4e6d-8561-4e735d10da93",
   "metadata": {},
   "outputs": [
    {
     "name": "stdout",
     "output_type": "stream",
     "text": [
      "['between', '2016', '2019', ',', 'state', 'forest', 'depart', 'bjp', 'govern', 'launch', '‘', 'green', 'maharashtra', '’', 'drive', 'aim', 'plant', '50', 'crore', 'tree', 'across', 'state', 'four-year', 'period', '.', 'in', 'octob', '2019', ',', 'govern', 'claim', 'surpass', 'target', 'plant', '33', 'crore', 'tree', 'july-septemb', '2019', '.', 'the', 'indian', 'express', 'found', 'non-forest', 'agenc', '—', 'gram', 'panchayat', '—', 'task', 'plant', 'tree', 'upload', 'mandatori', 'audio-visu', 'proof', 'tree', 'plantat', 'drive', 'special', 'creat', 'portal', '.', 'in', 'pune', 'revenu', 'divis', ',', 'claim', 'gram', 'panchayat', 'plant', '1.7', 'crore', 'sapl', ';', 'howev', ',', 'evid', 'upload', '87', 'per', 'cent', '(', '1.49', 'crore', ')', 'sapl', '.', 'also', ',', '59', 'govern', 'agenc', 'involv', 'drive', 'mani', '38', 'submit', 'surviv', 'report', 'sapl', '.', 'thi', 'year', ',', 'target', 'set', 'forest', 'depart', 'compar', 'modest', '.', 'for', 'exampl', ',', 'pune', 'circl', '—', 'compris', 'three', 'divis', 'pune', 'solapur', 'district', '—', 'plan', 'plant', '17', 'lakh', 'sapl', 'forest', 'land', '.', 'howev', ',', 'may', 'meet', 'target', 'due', 'unavail', 'fund', '.', 'last', 'year', 'pune', 'circl', 'plant', '70', 'lakh', 'sapl', 'forest', 'land', '.', 'in', 'pune', 'divis', '—', 'compris', 'six', 'taluka', 'name', 'maval', ',', 'mulshi', ',', 'daund', ',', 'indapur', ',', 'baramati', 'havv', '—', 'prepar', 'done', 'plantat', '4', 'lakh', 'tree', 'special', 'emphasi', 'teakwood', '.', 'the', 'nation', 'forest', 'polici', 'aim', 'emphas', 'maintain', '33', '%', 'countri', '’', 'geograph', 'area', 'forest', 'green', 'cover', '.', 'in', 'view', 'part', '50', 'crore', 'plantat', 'programm', 'within', 'maharashtra', ',', 'maharashtra', 'forest', 'depart', 'aim', 'plant', '4', 'crore', 'sapl', 'state', '1st', 'juli', '7th', ',', '2017', 'celebr', '‘', 'vanmohotsav', '’', '.', 'the', 'plantat', 'programm', ',', 'announc', '2016', 'aim', 'plant', '2', 'crore', 'tree', '1st', 'juli', '2016', 'resound', 'success', 'final', 'total', 'report', 'figur', '2.82', 'crore', 'sapl', 'plant', 'singl', 'day', '.', 'to', 'maintain', 'consist', 'platform', 'without', 'affect', 'momentum', ',', 'forest', 'depart', 'set', 'target', 'plantat', '4', 'crore', ',', '13', 'crore', '33', 'crore', 'sapl', 'mission', '50', 'crore', 'plantat', 'shall', 'accomplish', 'three', 'consecut', 'year', 'viz', '.', '2017', ',', '2018', '2019', '.', 'the', '4', 'crore', 'sapl', 'year', '2017', 'plant', 'vanmohotsav', ',', 'juli', '1st', 'juli', '7th', 'state-wid', 'drive', 'involv', '33', 'govern', 'depart', 'along', 'student', 'school', 'colleg', ',', 'nss', ',', 'ncc', ',', 'csr', ',', 'ngo', ',', 'railway', ',', 'nation', 'highway', ',', 'defenc', ',', 'nabard', 'stakehold', 'societi', '.', 'in', 'first', 'kind', ',', '24-hour', 'toll', 'free', 'helplin', 'number', '1926', 'call', '‘', 'hello', 'forest', '’', 'set', 'provid', 'inform', 'regard', 'plantat', ',', 'protect', 'mass', 'awar', '.', 'the', 'forest', 'depart', 'creat', 'mobil', 'applic', 'call', '‘', 'my', 'plant', '’', 'record', 'detail', 'plantat', 'number', ',', 'speci', 'locat', 'comput', 'system', 'forest', 'depart', '.', 'all', 'volunt', 'individu', ',', 'collect', 'organiz', 'level', 'download', 'use', 'applic', 'record', 'tree', 'plantat', 'work', 'applic', ',', 'oper', '1st', 'juli', '7th', 'juli', '.', 'in', 'conson', 'public', 'particip', ',', 'maharashtra', 'forest', 'depart', 'initi', '‘', 'maharashtra', 'harit', 'sena', '’', '/', '‘', 'green', 'armi', '’', 'bodi', 'dedic', 'volunt', 'particip', 'plantat', ',', 'protect', ',', 'activ', 'forest', ',', 'wildlif', ',', 'relat', 'sector', 'around', 'year', '.', 'individu', 'organis', 'interest', 'volunt', 'regist', 'green', 'armi', 'websit', 'www.greenarmy.mahaforest.gov.in', 'an', 'integr', 'drive', 'set', 'place', 'ensur', 'seamless', 'success', 'particip', 'stakehold', 'societi', ',', 'especi', 'public', '.']\n"
     ]
    }
   ],
   "source": [
    "stemmer = nltk.stem.PorterStemmer() # double m\n",
    "stemmer_words = [stemmer.stem(tokens) for tokens in word_tokens]\n",
    "print(stemmer_words)"
   ]
  },
  {
   "cell_type": "markdown",
   "id": "edc68fa6-e5d6-416a-aeba-3921248c1d30",
   "metadata": {},
   "source": [
    "#### 7.2 Create representation of document by calculating Term Frequency and Inverse Document Frequency"
   ]
  },
  {
   "cell_type": "markdown",
   "id": "d99f5826-4cce-40a7-b370-4714f5b1a2ef",
   "metadata": {},
   "source": [
    "#### Term Frequency : How many times a word has occured (bascially the frequency of a word)\n",
    "#### Inverse Document Frequency : Importance of a word within a collection off documents IDF = log ( N / DF(t) ) \n",
    "#### N = number of documents and DF(t) = no of documents containing the words"
   ]
  },
  {
   "cell_type": "code",
   "execution_count": 15,
   "id": "84c0dc16-ade8-41ed-a63c-65d688bcf59f",
   "metadata": {},
   "outputs": [],
   "source": [
    "def calculate_term_freq(doc):\n",
    "    word_tokens = nltk.word_tokenize(doc)\n",
    "    tf_dict = dict()\n",
    "    for word in word_tokens:\n",
    "        tf_dict[word] = word_tokens.count(word)\n",
    "    tf = dict()\n",
    "    for word,count in tf_dict.items():\n",
    "        tf[word] = count/ len(tf_dict)\n",
    "    return tf"
   ]
  },
  {
   "cell_type": "code",
   "execution_count": 17,
   "id": "0be34856-4aaa-4771-9035-5826fc7cfe1f",
   "metadata": {},
   "outputs": [
    {
     "name": "stdout",
     "output_type": "stream",
     "text": [
      "Term Frequency of Document 1 {'Between': 0.0033783783783783786, '2016': 0.010135135135135136, 'and': 0.060810810810810814, '2019': 0.013513513513513514, ',': 0.12837837837837837, 'the': 0.13513513513513514, 'state': 0.006756756756756757, 'forest': 0.02027027027027027, 'department': 0.006756756756756757, 'under': 0.010135135135135136, 'BJP': 0.0033783783783783786, 'government': 0.013513513513513514, 'had': 0.02364864864864865, 'launched': 0.0033783783783783786, '‘': 0.02027027027027027, 'Green': 0.010135135135135136, 'Maharashtra': 0.016891891891891893, '’': 0.02364864864864865, 'drive': 0.013513513513513514, 'with': 0.02364864864864865, 'an': 0.0033783783783783786, 'aim': 0.006756756756756757, 'to': 0.04391891891891892, 'plant': 0.010135135135135136, '50': 0.010135135135135136, 'crore': 0.04391891891891892, 'trees': 0.016891891891891893, 'across': 0.0033783783783783786, 'in': 0.037162162162162164, 'four-year': 0.0033783783783783786, 'period': 0.0033783783783783786, '.': 0.07094594594594594, 'In': 0.02027027027027027, 'October': 0.0033783783783783786, 'claimed': 0.006756756756756757, 'it': 0.010135135135135136, 'surpassed': 0.0033783783783783786, 'target': 0.010135135135135136, 'by': 0.006756756756756757, 'planting': 0.010135135135135136, '33': 0.013513513513513514, 'July-September': 0.0033783783783783786, 'The': 0.016891891891891893, 'Indian': 0.0033783783783783786, 'Express': 0.0033783783783783786, 'found': 0.0033783783783783786, 'that': 0.0033783783783783786, 'non-forest': 0.0033783783783783786, 'agencies': 0.006756756756756757, '—': 0.02027027027027027, 'such': 0.006756756756756757, 'as': 0.016891891891891893, 'gram': 0.006756756756756757, 'panchayats': 0.006756756756756757, 'which': 0.02364864864864865, 'were': 0.010135135135135136, 'tasked': 0.0033783783783783786, 'not': 0.010135135135135136, 'uploaded': 0.006756756756756757, 'mandatory': 0.0033783783783783786, 'audio-visual': 0.0033783783783783786, 'proof': 0.0033783783783783786, 'of': 0.07432432432432433, 'tree': 0.006756756756756757, 'plantation': 0.033783783783783786, 'drives': 0.0033783783783783786, 'on': 0.02364864864864865, 'specially': 0.0033783783783783786, 'created': 0.006756756756756757, 'portal': 0.0033783783783783786, 'Pune': 0.016891891891891893, 'Revenue': 0.0033783783783783786, 'Division': 0.006756756756756757, 'was': 0.013513513513513514, 'planted': 0.013513513513513514, '1.7': 0.0033783783783783786, 'saplings': 0.030405405405405407, ';': 0.0033783783783783786, 'however': 0.0033783783783783786, 'no': 0.0033783783783783786, 'evidence': 0.0033783783783783786, 'for': 0.013513513513513514, '87': 0.0033783783783783786, 'per': 0.0033783783783783786, 'cent': 0.0033783783783783786, '(': 0.0033783783783783786, '1.49': 0.0033783783783783786, ')': 0.0033783783783783786, 'Also': 0.0033783783783783786, 'out': 0.0033783783783783786, '59': 0.0033783783783783786, 'involved': 0.0033783783783783786, 'many': 0.0033783783783783786, '38': 0.0033783783783783786, 'submitted': 0.0033783783783783786, 'survival': 0.0033783783783783786, 'reports': 0.0033783783783783786, 'about': 0.006756756756756757, 'This': 0.0033783783783783786, 'year': 0.013513513513513514, 'targets': 0.0033783783783783786, 'set': 0.013513513513513514, 'comparatively': 0.0033783783783783786, 'modest': 0.0033783783783783786, 'For': 0.0033783783783783786, 'example': 0.0033783783783783786, 'Circle': 0.006756756756756757, 'comprises': 0.006756756756756757, 'three': 0.006756756756756757, 'divisions': 0.0033783783783783786, 'Solapur': 0.0033783783783783786, 'district': 0.0033783783783783786, 'planned': 0.0033783783783783786, '17': 0.0033783783783783786, 'lakh': 0.010135135135135136, 'land': 0.006756756756756757, 'However': 0.0033783783783783786, 'may': 0.0033783783783783786, 'meet': 0.0033783783783783786, 'due': 0.0033783783783783786, 'unavailability': 0.0033783783783783786, 'funds': 0.0033783783783783786, 'Last': 0.0033783783783783786, '70': 0.0033783783783783786, 'six': 0.0033783783783783786, 'talukas': 0.0033783783783783786, 'namely': 0.0033783783783783786, 'Maval': 0.0033783783783783786, 'Mulshi': 0.0033783783783783786, 'Daund': 0.0033783783783783786, 'Indapur': 0.0033783783783783786, 'Baramati': 0.0033783783783783786, 'Havveli': 0.0033783783783783786, 'preparations': 0.0033783783783783786, 'done': 0.0033783783783783786, '4': 0.013513513513513514, 'special': 0.0033783783783783786, 'emphasis': 0.0033783783783783786, 'teakwood': 0.0033783783783783786, 'National': 0.006756756756756757, 'Forest': 0.02364864864864865, 'Policy': 0.0033783783783783786, 'aims': 0.006756756756756757, 'emphasizes': 0.0033783783783783786, 'at': 0.006756756756756757, 'maintaining': 0.0033783783783783786, '%': 0.0033783783783783786, 'country': 0.0033783783783783786, 's': 0.0033783783783783786, 'geographical': 0.0033783783783783786, 'area': 0.0033783783783783786, 'green': 0.0033783783783783786, 'cover': 0.0033783783783783786, 'view': 0.0033783783783783786, 'this': 0.010135135135135136, 'a': 0.02702702702702703, 'part': 0.0033783783783783786, 'programme': 0.006756756756756757, 'within': 0.0033783783783783786, 'Department': 0.016891891891891893, 'all': 0.006756756756756757, 'over': 0.0033783783783783786, 'State': 0.0033783783783783786, 'between': 0.0033783783783783786, '1st': 0.013513513513513514, 'July': 0.02027027027027027, '7th': 0.010135135135135136, '2017': 0.010135135135135136, 'celebrate': 0.0033783783783783786, 'Vanmohotsav': 0.006756756756756757, 'announced': 0.0033783783783783786, '2': 0.0033783783783783786, 'resounding': 0.0033783783783783786, 'success': 0.0033783783783783786, 'final': 0.0033783783783783786, 'total': 0.0033783783783783786, 'reported': 0.0033783783783783786, 'figure': 0.0033783783783783786, '2.82': 0.0033783783783783786, 'single': 0.0033783783783783786, 'day': 0.0033783783783783786, 'To': 0.0033783783783783786, 'maintain': 0.0033783783783783786, 'consistency': 0.0033783783783783786, 'platform': 0.0033783783783783786, 'without': 0.0033783783783783786, 'affecting': 0.0033783783783783786, 'its': 0.006756756756756757, 'momentum': 0.0033783783783783786, 'has': 0.016891891891891893, '13': 0.0033783783783783786, 'mission': 0.0033783783783783786, 'shall': 0.0033783783783783786, 'be': 0.010135135135135136, 'accomplished': 0.0033783783783783786, 'consecutive': 0.0033783783783783786, 'years': 0.0033783783783783786, 'viz': 0.0033783783783783786, '2018': 0.0033783783783783786, 'will': 0.006756756756756757, 'during': 0.0033783783783783786, 'state-wide': 0.0033783783783783786, 'involvement': 0.0033783783783783786, 'departments': 0.0033783783783783786, 'along': 0.0033783783783783786, 'Students': 0.0033783783783783786, 'Schools': 0.0033783783783783786, 'Colleges': 0.0033783783783783786, 'NSS': 0.0033783783783783786, 'NCC': 0.0033783783783783786, 'CSR': 0.0033783783783783786, 'NGOs': 0.0033783783783783786, 'Railways': 0.0033783783783783786, 'Highways': 0.0033783783783783786, 'Defence': 0.0033783783783783786, 'NABARD': 0.0033783783783783786, 'other': 0.0033783783783783786, 'stakeholders': 0.006756756756756757, 'Society': 0.0033783783783783786, 'first': 0.0033783783783783786, 'kind': 0.0033783783783783786, '24-hour': 0.0033783783783783786, 'toll': 0.0033783783783783786, 'free': 0.0033783783783783786, 'helpline': 0.0033783783783783786, 'number': 0.0033783783783783786, '1926': 0.0033783783783783786, 'called': 0.006756756756756757, 'Hello': 0.0033783783783783786, 'been': 0.006756756756756757, 'up': 0.0033783783783783786, 'provide': 0.0033783783783783786, 'information': 0.0033783783783783786, 'regarding': 0.0033783783783783786, 'protection': 0.006756756756756757, 'mass': 0.0033783783783783786, 'awareness': 0.0033783783783783786, 'mobile': 0.0033783783783783786, 'application': 0.010135135135135136, 'My': 0.0033783783783783786, 'Plants': 0.0033783783783783786, 'record': 0.006756756756756757, 'details': 0.0033783783783783786, 'numbers': 0.0033783783783783786, 'species': 0.0033783783783783786, 'location': 0.0033783783783783786, 'into': 0.0033783783783783786, 'computer': 0.0033783783783783786, 'system': 0.0033783783783783786, 'All': 0.0033783783783783786, 'volunteers': 0.006756756756756757, 'individual': 0.0033783783783783786, 'collective': 0.0033783783783783786, 'organizational': 0.0033783783783783786, 'level': 0.0033783783783783786, 'should': 0.0033783783783783786, 'download': 0.0033783783783783786, 'use': 0.0033783783783783786, 'their': 0.0033783783783783786, 'work': 0.0033783783783783786, 'through': 0.0033783783783783786, 'operational': 0.0033783783783783786, 'from': 0.006756756756756757, 'consonance': 0.0033783783783783786, 'public': 0.006756756756756757, 'participation': 0.006756756756756757, 'initiated': 0.0033783783783783786, 'Harit': 0.0033783783783783786, 'Sena': 0.0033783783783783786, '/': 0.0033783783783783786, 'Army': 0.006756756756756757, 'is': 0.0033783783783783786, 'body': 0.0033783783783783786, 'dedicated': 0.0033783783783783786, 'participate': 0.0033783783783783786, 'activities': 0.0033783783783783786, 'wildlife': 0.0033783783783783786, 'related': 0.0033783783783783786, 'sectors': 0.0033783783783783786, 'around': 0.0033783783783783786, 'Individuals': 0.0033783783783783786, 'organisations': 0.0033783783783783786, 'interested': 0.0033783783783783786, 'volunteering': 0.0033783783783783786, 'can': 0.0033783783783783786, 'register': 0.0033783783783783786, 'website': 0.0033783783783783786, 'www.greenarmy.mahaforest.gov.in': 0.0033783783783783786, 'An': 0.0033783783783783786, 'integrated': 0.0033783783783783786, 'place': 0.0033783783783783786, 'ensure': 0.0033783783783783786, 'seamless': 0.0033783783783783786, 'successful': 0.0033783783783783786, 'society': 0.0033783783783783786, 'especially': 0.0033783783783783786} \n",
      "\n",
      "Term Frequency of Document 2 {'Millions': 0.004807692307692308, 'of': 0.0673076923076923, 'people': 0.004807692307692308, 'in': 0.052884615384615384, 'India': 0.019230769230769232, 'took': 0.004807692307692308, 'part': 0.004807692307692308, 'an': 0.014423076923076924, 'annual': 0.009615384615384616, 'tree': 0.019230769230769232, 'planting': 0.009615384615384616, 'drive': 0.009615384615384616, 'Sunday': 0.004807692307692308, '.': 0.08653846153846154, 'More': 0.004807692307692308, 'than': 0.004807692307692308, '250': 0.004807692307692308, 'million': 0.009615384615384616, 'saplings': 0.038461538461538464, 'were': 0.014423076923076924, 'planted': 0.019230769230769232, 'a': 0.03365384615384615, 'single': 0.004807692307692308, 'day': 0.004807692307692308, 'across': 0.009615384615384616, 'the': 0.11538461538461539, 'country': 0.009615384615384616, \"'s\": 0.009615384615384616, 'most-populous': 0.004807692307692308, 'state': 0.02403846153846154, 'The': 0.03365384615384615, 'campaign': 0.004807692307692308, 'was': 0.009615384615384616, 'led': 0.004807692307692308, 'by': 0.014423076923076924, 'Uttar': 0.019230769230769232, 'Pradesh': 0.019230769230769232, 'government': 0.019230769230769232, 'officials': 0.009615384615384616, ',': 0.09615384615384616, 'lawmakers': 0.004807692307692308, 'and': 0.038461538461538464, 'activists': 0.004807692307692308, 'bid': 0.004807692307692308, 'to': 0.04807692307692308, 'reduce': 0.004807692307692308, 'carbon': 0.004807692307692308, 'emissions': 0.004807692307692308, 'combat': 0.004807692307692308, 'climate': 0.004807692307692308, 'change': 0.004807692307692308, 'Where': 0.004807692307692308, 'trees': 0.009615384615384616, '?': 0.014423076923076924, 'volunteers': 0.004807692307692308, 'forests': 0.004807692307692308, 'farms': 0.004807692307692308, 'schools': 0.004807692307692308, 'along': 0.004807692307692308, 'riverbanks': 0.004807692307692308, 'highways': 0.004807692307692308, '``': 0.02403846153846154, 'We': 0.004807692307692308, 'are': 0.004807692307692308, 'committed': 0.004807692307692308, 'increasing': 0.004807692307692308, 'forest': 0.02403846153846154, 'cover': 0.02403846153846154, 'over': 0.009615384615384616, '15': 0.004807692307692308, '%': 0.02403846153846154, 'total': 0.009615384615384616, 'land': 0.014423076923076924, 'area': 0.009615384615384616, 'next': 0.004807692307692308, 'five': 0.004807692307692308, 'years': 0.009615384615384616, \"''\": 0.02403846153846154, 'said': 0.02403846153846154, 'official': 0.014423076923076924, 'Manoj': 0.004807692307692308, 'Singh': 0.009615384615384616, 'According': 0.004807692307692308, 'another': 0.004807692307692308, 'has': 0.03365384615384615, 'increased': 0.009615384615384616, 'last': 0.009615384615384616, 'few': 0.004807692307692308, 'There': 0.009615384615384616, 'been': 0.019230769230769232, 'increase': 0.009615384615384616, '127': 0.004807692307692308, 'sqare': 0.009615384615384616, 'kilometers': 0.004807692307692308, '[': 0.004807692307692308, '79': 0.004807692307692308, 'miles': 0.004807692307692308, ']': 0.004807692307692308, 'as': 0.014423076923076924, 'compared': 0.009615384615384616, '2017': 0.004807692307692308, 'spokesperson': 0.004807692307692308, 'quoted': 0.004807692307692308, 'saying': 0.004807692307692308, 'Indian': 0.004807692307692308, 'Express': 0.004807692307692308, 'newspaper': 0.009615384615384616, 'also': 0.004807692307692308, 'plants': 0.004807692307692308, '3.05': 0.004807692307692308, 'national': 0.004807692307692308, 'average': 0.004807692307692308, '2.89': 0.004807692307692308, 'citing': 0.004807692307692308, '2019': 0.004807692307692308, 'Forest': 0.009615384615384616, 'Survey': 0.004807692307692308, 'report': 0.004807692307692308, 'How': 0.004807692307692308, 'many': 0.004807692307692308, 'survive': 0.009615384615384616, 'State': 0.004807692307692308, 'Minister': 0.004807692307692308, 'Dara': 0.004807692307692308, 'long-term': 0.004807692307692308, 'survival': 0.004807692307692308, 'remains': 0.004807692307692308, 'concern': 0.004807692307692308, 'adding': 0.004807692307692308, 'that': 0.019230769230769232, 'usually': 0.004807692307692308, 'only': 0.004807692307692308, '60': 0.004807692307692308, 'rest': 0.004807692307692308, 'succumb': 0.004807692307692308, 'disease': 0.004807692307692308, 'or': 0.014423076923076924, 'lack': 0.004807692307692308, 'water': 0.004807692307692308, 'However': 0.009615384615384616, 'he': 0.009615384615384616, 'about': 0.004807692307692308, '80': 0.004807692307692308, 'four': 0.004807692307692308, 'drives': 0.004807692307692308, 'have': 0.019230769230769232, 'survived': 0.009615384615384616, 'All': 0.004807692307692308, 'regions': 0.004807692307692308, 'where': 0.004807692307692308, 'plantation': 0.009615384615384616, 'is': 0.009615384615384616, 'being': 0.004807692307692308, 'carried': 0.004807692307692308, 'out': 0.004807692307692308, 'geo-tagged': 0.004807692307692308, 'so': 0.009615384615384616, 'we': 0.004807692307692308, 'can': 0.009615384615384616, 'ascertain': 0.004807692307692308, 'what': 0.004807692307692308, 'exactly': 0.004807692307692308, 'happened': 0.004807692307692308, 'Chauhan': 0.004807692307692308, 'told': 0.004807692307692308, 'Pioneer': 0.004807692307692308, 'These': 0.004807692307692308, 'carry': 0.004807692307692308, 'QR': 0.004807692307692308, 'codes': 0.004807692307692308, 'maintain': 0.004807692307692308, 'record': 0.004807692307692308, 'verify': 0.004807692307692308, 'whether': 0.004807692307692308, 'not': 0.004807692307692308, 'Besides': 0.004807692307692308, 'teams': 0.004807692307692308, 'formed': 0.004807692307692308, 'monitor': 0.004807692307692308, 'progress': 0.004807692307692308, 'What': 0.004807692307692308, 'extent': 0.004807692307692308, 'project': 0.004807692307692308, 'vowed': 0.004807692307692308, 'third': 0.004807692307692308, 'its': 0.004807692307692308, '95': 0.004807692307692308, 'hectares': 0.004807692307692308, 'under': 0.004807692307692308, '2030': 0.004807692307692308, 'allocated': 0.004807692307692308, '$': 0.004807692307692308, '6.2': 0.004807692307692308, 'billion': 0.009615384615384616, '(': 0.004807692307692308, '€5.2': 0.004807692307692308, ')': 0.004807692307692308, 'for': 0.004807692307692308, 'tree-planting': 0.004807692307692308, 'industrial': 0.004807692307692308, 'development': 0.004807692307692308, 'rapidly': 0.004807692307692308, 'growing': 0.004807692307692308, 'population': 0.004807692307692308, 'put': 0.004807692307692308, 'further': 0.004807692307692308, 'stress': 0.004807692307692308, 'on': 0.004807692307692308} \n",
      "\n"
     ]
    }
   ],
   "source": [
    "tf = calculate_term_freq(doc)\n",
    "tf1 = calculate_term_freq(doc2)\n",
    "\n",
    "print(\"Term Frequency of Document 1\", tf , \"\\n\")\n",
    "print(\"Term Frequency of Document 2\", tf1 , \"\\n\")"
   ]
  },
  {
   "cell_type": "code",
   "execution_count": 19,
   "id": "e50c0254-91cd-4427-a3b3-23f029b1bf13",
   "metadata": {},
   "outputs": [
    {
     "name": "stdout",
     "output_type": "stream",
     "text": [
      "{'Between': 0.6931471805599453, '2016': 0.6931471805599453, 'and': 0.0, '2019': 0.0, ',': 0.0, 'the': 0.0, 'state': 0.0, 'forest': 0.0, 'department': 0.6931471805599453, 'under': 0.0, 'BJP': 0.6931471805599453, 'government': 0.0, 'had': 0.6931471805599453, 'launched': 0.6931471805599453, '‘': 0.6931471805599453, 'Green': 0.6931471805599453, 'Maharashtra': 0.6931471805599453, '’': 0.6931471805599453, 'drive': 0.0, 'with': 0.6931471805599453, 'an': 0.0, 'aim': 0.6931471805599453, 'to': 0.0, 'plant': 0.6931471805599453, '50': 0.6931471805599453, 'crore': 0.6931471805599453, 'trees': 0.0, 'across': 0.0, 'in': 0.0, 'four-year': 0.6931471805599453, 'period': 0.6931471805599453, '.': 0.0, 'In': 0.6931471805599453, 'October': 0.6931471805599453, 'claimed': 0.6931471805599453, 'it': 0.6931471805599453, 'surpassed': 0.6931471805599453, 'target': 0.6931471805599453, 'by': 0.0, 'planting': 0.0, '33': 0.6931471805599453, 'July-September': 0.6931471805599453, 'The': 0.0, 'Indian': 0.0, 'Express': 0.0, 'found': 0.6931471805599453, 'that': 0.0, 'non-forest': 0.6931471805599453, 'agencies': 0.6931471805599453, '—': 0.6931471805599453, 'such': 0.6931471805599453, 'as': 0.0, 'gram': 0.6931471805599453, 'panchayats': 0.6931471805599453, 'which': 0.6931471805599453, 'were': 0.0, 'tasked': 0.6931471805599453, 'not': 0.0, 'uploaded': 0.6931471805599453, 'mandatory': 0.6931471805599453, 'audio-visual': 0.6931471805599453, 'proof': 0.6931471805599453, 'of': 0.0, 'tree': 0.0, 'plantation': 0.0, 'drives': 0.0, 'on': 0.0, 'specially': 0.6931471805599453, 'created': 0.6931471805599453, 'portal': 0.6931471805599453, 'Pune': 0.6931471805599453, 'Revenue': 0.6931471805599453, 'Division': 0.6931471805599453, 'was': 0.0, 'planted': 0.0, '1.7': 0.6931471805599453, 'saplings': 0.0, ';': 0.6931471805599453, 'however': 0.6931471805599453, 'no': 0.6931471805599453, 'evidence': 0.6931471805599453, 'for': 0.0, '87': 0.6931471805599453, 'per': 0.6931471805599453, 'cent': 0.6931471805599453, '(': 0.0, '1.49': 0.6931471805599453, ')': 0.0, 'Also': 0.6931471805599453, 'out': 0.0, '59': 0.6931471805599453, 'involved': 0.6931471805599453, 'many': 0.0, '38': 0.6931471805599453, 'submitted': 0.6931471805599453, 'survival': 0.0, 'reports': 0.6931471805599453, 'about': 0.0, 'This': 0.6931471805599453, 'year': 0.6931471805599453, 'targets': 0.6931471805599453, 'set': 0.6931471805599453, 'comparatively': 0.6931471805599453, 'modest': 0.6931471805599453, 'For': 0.6931471805599453, 'example': 0.6931471805599453, 'Circle': 0.6931471805599453, 'comprises': 0.6931471805599453, 'three': 0.6931471805599453, 'divisions': 0.6931471805599453, 'Solapur': 0.6931471805599453, 'district': 0.6931471805599453, 'planned': 0.6931471805599453, '17': 0.6931471805599453, 'lakh': 0.6931471805599453, 'land': 0.0, 'However': 0.0, 'may': 0.6931471805599453, 'meet': 0.6931471805599453, 'due': 0.6931471805599453, 'unavailability': 0.6931471805599453, 'funds': 0.6931471805599453, 'Last': 0.6931471805599453, '70': 0.6931471805599453, 'six': 0.6931471805599453, 'talukas': 0.6931471805599453, 'namely': 0.6931471805599453, 'Maval': 0.6931471805599453, 'Mulshi': 0.6931471805599453, 'Daund': 0.6931471805599453, 'Indapur': 0.6931471805599453, 'Baramati': 0.6931471805599453, 'Havveli': 0.6931471805599453, 'preparations': 0.6931471805599453, 'done': 0.6931471805599453, '4': 0.6931471805599453, 'special': 0.6931471805599453, 'emphasis': 0.6931471805599453, 'teakwood': 0.6931471805599453, 'National': 0.6931471805599453, 'Forest': 0.0, 'Policy': 0.6931471805599453, 'aims': 0.6931471805599453, 'emphasizes': 0.6931471805599453, 'at': 0.6931471805599453, 'maintaining': 0.6931471805599453, '%': 0.0, 'country': 0.0, 's': 0.6931471805599453, 'geographical': 0.6931471805599453, 'area': 0.0, 'green': 0.6931471805599453, 'cover': 0.0, 'view': 0.6931471805599453, 'this': 0.6931471805599453, 'a': 0.0, 'part': 0.0, 'programme': 0.6931471805599453, 'within': 0.6931471805599453, 'Department': 0.6931471805599453, 'all': 0.6931471805599453, 'over': 0.0, 'State': 0.0, 'between': 0.6931471805599453, '1st': 0.6931471805599453, 'July': 0.6931471805599453, '7th': 0.6931471805599453, '2017': 0.0, 'celebrate': 0.6931471805599453, 'Vanmohotsav': 0.6931471805599453, 'announced': 0.6931471805599453, '2': 0.6931471805599453, 'resounding': 0.6931471805599453, 'success': 0.6931471805599453, 'final': 0.6931471805599453, 'total': 0.0, 'reported': 0.6931471805599453, 'figure': 0.6931471805599453, '2.82': 0.6931471805599453, 'single': 0.0, 'day': 0.0, 'To': 0.6931471805599453, 'maintain': 0.0, 'consistency': 0.6931471805599453, 'platform': 0.6931471805599453, 'without': 0.6931471805599453, 'affecting': 0.6931471805599453, 'its': 0.0, 'momentum': 0.6931471805599453, 'has': 0.0, '13': 0.6931471805599453, 'mission': 0.6931471805599453, 'shall': 0.6931471805599453, 'be': 0.6931471805599453, 'accomplished': 0.6931471805599453, 'consecutive': 0.6931471805599453, 'years': 0.0, 'viz': 0.6931471805599453, '2018': 0.6931471805599453, 'will': 0.6931471805599453, 'during': 0.6931471805599453, 'state-wide': 0.6931471805599453, 'involvement': 0.6931471805599453, 'departments': 0.6931471805599453, 'along': 0.0, 'Students': 0.6931471805599453, 'Schools': 0.6931471805599453, 'Colleges': 0.6931471805599453, 'NSS': 0.6931471805599453, 'NCC': 0.6931471805599453, 'CSR': 0.6931471805599453, 'NGOs': 0.6931471805599453, 'Railways': 0.6931471805599453, 'Highways': 0.6931471805599453, 'Defence': 0.6931471805599453, 'NABARD': 0.6931471805599453, 'other': 0.6931471805599453, 'stakeholders': 0.6931471805599453, 'Society': 0.6931471805599453, 'first': 0.6931471805599453, 'kind': 0.6931471805599453, '24-hour': 0.6931471805599453, 'toll': 0.6931471805599453, 'free': 0.6931471805599453, 'helpline': 0.6931471805599453, 'number': 0.6931471805599453, '1926': 0.6931471805599453, 'called': 0.6931471805599453, 'Hello': 0.6931471805599453, 'been': 0.0, 'up': 0.6931471805599453, 'provide': 0.6931471805599453, 'information': 0.6931471805599453, 'regarding': 0.6931471805599453, 'protection': 0.6931471805599453, 'mass': 0.6931471805599453, 'awareness': 0.6931471805599453, 'mobile': 0.6931471805599453, 'application': 0.6931471805599453, 'My': 0.6931471805599453, 'Plants': 0.6931471805599453, 'record': 0.0, 'details': 0.6931471805599453, 'numbers': 0.6931471805599453, 'species': 0.6931471805599453, 'location': 0.6931471805599453, 'into': 0.6931471805599453, 'computer': 0.6931471805599453, 'system': 0.6931471805599453, 'All': 0.0, 'volunteers': 0.0, 'individual': 0.6931471805599453, 'collective': 0.6931471805599453, 'organizational': 0.6931471805599453, 'level': 0.6931471805599453, 'should': 0.6931471805599453, 'download': 0.6931471805599453, 'use': 0.6931471805599453, 'their': 0.6931471805599453, 'work': 0.6931471805599453, 'through': 0.6931471805599453, 'operational': 0.6931471805599453, 'from': 0.6931471805599453, 'consonance': 0.6931471805599453, 'public': 0.6931471805599453, 'participation': 0.6931471805599453, 'initiated': 0.6931471805599453, 'Harit': 0.6931471805599453, 'Sena': 0.6931471805599453, '/': 0.6931471805599453, 'Army': 0.6931471805599453, 'is': 0.0, 'body': 0.6931471805599453, 'dedicated': 0.6931471805599453, 'participate': 0.6931471805599453, 'activities': 0.6931471805599453, 'wildlife': 0.6931471805599453, 'related': 0.6931471805599453, 'sectors': 0.6931471805599453, 'around': 0.6931471805599453, 'Individuals': 0.6931471805599453, 'organisations': 0.6931471805599453, 'interested': 0.6931471805599453, 'volunteering': 0.6931471805599453, 'can': 0.0, 'register': 0.6931471805599453, 'website': 0.6931471805599453, 'www.greenarmy.mahaforest.gov.in': 0.6931471805599453, 'An': 0.6931471805599453, 'integrated': 0.6931471805599453, 'place': 0.6931471805599453, 'ensure': 0.6931471805599453, 'seamless': 0.6931471805599453, 'successful': 0.6931471805599453, 'society': 0.6931471805599453, 'especially': 0.6931471805599453, 'Millions': 0.6931471805599453, 'people': 0.6931471805599453, 'India': 0.6931471805599453, 'took': 0.6931471805599453, 'annual': 0.6931471805599453, 'Sunday': 0.6931471805599453, 'More': 0.6931471805599453, 'than': 0.6931471805599453, '250': 0.6931471805599453, 'million': 0.6931471805599453, \"'s\": 0.6931471805599453, 'most-populous': 0.6931471805599453, 'campaign': 0.6931471805599453, 'led': 0.6931471805599453, 'Uttar': 0.6931471805599453, 'Pradesh': 0.6931471805599453, 'officials': 0.6931471805599453, 'lawmakers': 0.6931471805599453, 'activists': 0.6931471805599453, 'bid': 0.6931471805599453, 'reduce': 0.6931471805599453, 'carbon': 0.6931471805599453, 'emissions': 0.6931471805599453, 'combat': 0.6931471805599453, 'climate': 0.6931471805599453, 'change': 0.6931471805599453, 'Where': 0.6931471805599453, '?': 0.6931471805599453, 'forests': 0.6931471805599453, 'farms': 0.6931471805599453, 'schools': 0.6931471805599453, 'riverbanks': 0.6931471805599453, 'highways': 0.6931471805599453, '``': 0.6931471805599453, 'We': 0.6931471805599453, 'are': 0.6931471805599453, 'committed': 0.6931471805599453, 'increasing': 0.6931471805599453, '15': 0.6931471805599453, 'next': 0.6931471805599453, 'five': 0.6931471805599453, \"''\": 0.6931471805599453, 'said': 0.6931471805599453, 'official': 0.6931471805599453, 'Manoj': 0.6931471805599453, 'Singh': 0.6931471805599453, 'According': 0.6931471805599453, 'another': 0.6931471805599453, 'increased': 0.6931471805599453, 'last': 0.6931471805599453, 'few': 0.6931471805599453, 'There': 0.6931471805599453, 'increase': 0.6931471805599453, '127': 0.6931471805599453, 'sqare': 0.6931471805599453, 'kilometers': 0.6931471805599453, '[': 0.6931471805599453, '79': 0.6931471805599453, 'miles': 0.6931471805599453, ']': 0.6931471805599453, 'compared': 0.6931471805599453, 'spokesperson': 0.6931471805599453, 'quoted': 0.6931471805599453, 'saying': 0.6931471805599453, 'newspaper': 0.6931471805599453, 'also': 0.6931471805599453, 'plants': 0.6931471805599453, '3.05': 0.6931471805599453, 'national': 0.6931471805599453, 'average': 0.6931471805599453, '2.89': 0.6931471805599453, 'citing': 0.6931471805599453, 'Survey': 0.6931471805599453, 'report': 0.6931471805599453, 'How': 0.6931471805599453, 'survive': 0.6931471805599453, 'Minister': 0.6931471805599453, 'Dara': 0.6931471805599453, 'long-term': 0.6931471805599453, 'remains': 0.6931471805599453, 'concern': 0.6931471805599453, 'adding': 0.6931471805599453, 'usually': 0.6931471805599453, 'only': 0.6931471805599453, '60': 0.6931471805599453, 'rest': 0.6931471805599453, 'succumb': 0.6931471805599453, 'disease': 0.6931471805599453, 'or': 0.6931471805599453, 'lack': 0.6931471805599453, 'water': 0.6931471805599453, 'he': 0.6931471805599453, '80': 0.6931471805599453, 'four': 0.6931471805599453, 'have': 0.6931471805599453, 'survived': 0.6931471805599453, 'regions': 0.6931471805599453, 'where': 0.6931471805599453, 'being': 0.6931471805599453, 'carried': 0.6931471805599453, 'geo-tagged': 0.6931471805599453, 'so': 0.6931471805599453, 'we': 0.6931471805599453, 'ascertain': 0.6931471805599453, 'what': 0.6931471805599453, 'exactly': 0.6931471805599453, 'happened': 0.6931471805599453, 'Chauhan': 0.6931471805599453, 'told': 0.6931471805599453, 'Pioneer': 0.6931471805599453, 'These': 0.6931471805599453, 'carry': 0.6931471805599453, 'QR': 0.6931471805599453, 'codes': 0.6931471805599453, 'verify': 0.6931471805599453, 'whether': 0.6931471805599453, 'Besides': 0.6931471805599453, 'teams': 0.6931471805599453, 'formed': 0.6931471805599453, 'monitor': 0.6931471805599453, 'progress': 0.6931471805599453, 'What': 0.6931471805599453, 'extent': 0.6931471805599453, 'project': 0.6931471805599453, 'vowed': 0.6931471805599453, 'third': 0.6931471805599453, '95': 0.6931471805599453, 'hectares': 0.6931471805599453, '2030': 0.6931471805599453, 'allocated': 0.6931471805599453, '$': 0.6931471805599453, '6.2': 0.6931471805599453, 'billion': 0.6931471805599453, '€5.2': 0.6931471805599453, 'tree-planting': 0.6931471805599453, 'industrial': 0.6931471805599453, 'development': 0.6931471805599453, 'rapidly': 0.6931471805599453, 'growing': 0.6931471805599453, 'population': 0.6931471805599453, 'put': 0.6931471805599453, 'further': 0.6931471805599453, 'stress': 0.6931471805599453}\n"
     ]
    }
   ],
   "source": [
    "d1_tokens = nltk.word_tokenize(doc)\n",
    "d2_tokens = nltk.word_tokenize(doc2)\n",
    "\n",
    "def calculate_idf():\n",
    "    N = 2\n",
    "    all_tokens = d1_tokens + d2_tokens\n",
    "    idf_token = dict()\n",
    "    for token in all_tokens:\n",
    "        f = 0\n",
    "        if token in d1_tokens:\n",
    "            f += 1\n",
    "        if token in d2_tokens:\n",
    "            f += 1\n",
    "        idf_token[token] = math.log(N/f)\n",
    "    return idf_token\n",
    "idf = calculate_idf()\n",
    "print(idf)"
   ]
  },
  {
   "cell_type": "markdown",
   "id": "49cd8f79-2d49-41d7-8573-92cc627e5c6b",
   "metadata": {},
   "source": [
    "#### TF-IDF(token) = TF(token) * IDF(token)"
   ]
  },
  {
   "cell_type": "code",
   "execution_count": 20,
   "id": "90f55f0a-55ee-4265-8bb0-a4d38984d92e",
   "metadata": {},
   "outputs": [],
   "source": [
    "df_token = []\n",
    "for token in d1_tokens:\n",
    "    df_token.append(tf[token] * idf[token])\n",
    "df1_token = []\n",
    "for token in d2_tokens:\n",
    "    df1_token.append(tf1[token] * idf[token])"
   ]
  },
  {
   "cell_type": "code",
   "execution_count": 21,
   "id": "d029f9d3-0357-47ea-86f6-123298440b63",
   "metadata": {},
   "outputs": [
    {
     "name": "stdout",
     "output_type": "stream",
     "text": [
      "[0.0023417134478376533, 0.007025140343512959, 0.0, 0.0, 0.0, 0.0, 0.0, 0.0, 0.004683426895675307, 0.0, 0.0, 0.0023417134478376533, 0.0, 0.01639199413486357, 0.0023417134478376533, 0.014050280687025919, 0.007025140343512959, 0.011708567239188266, 0.01639199413486357, 0.0, 0.01639199413486357, 0.0, 0.004683426895675307, 0.0, 0.007025140343512959, 0.007025140343512959, 0.030442274821889492, 0.0, 0.0, 0.0, 0.0, 0.0, 0.0, 0.0023417134478376533, 0.0023417134478376533, 0.0, 0.014050280687025919, 0.0023417134478376533, 0.0, 0.0, 0.0, 0.0, 0.01639199413486357, 0.004683426895675307, 0.007025140343512959, 0.01639199413486357, 0.0023417134478376533, 0.0, 0.007025140343512959, 0.0, 0.0, 0.009366853791350613, 0.030442274821889492, 0.0, 0.0, 0.0023417134478376533, 0.0, 0.0, 0.0, 0.0, 0.0, 0.01639199413486357, 0.0023417134478376533, 0.0, 0.0023417134478376533, 0.004683426895675307, 0.014050280687025919, 0.004683426895675307, 0.0, 0.004683426895675307, 0.004683426895675307, 0.014050280687025919, 0.01639199413486357, 0.0, 0.0023417134478376533, 0.01639199413486357, 0.0, 0.0, 0.01639199413486357, 0.0, 0.004683426895675307, 0.0, 0.0023417134478376533, 0.0023417134478376533, 0.0023417134478376533, 0.0, 0.0, 0.0, 0.0, 0.0, 0.0, 0.0, 0.0023417134478376533, 0.004683426895675307, 0.0023417134478376533, 0.0, 0.014050280687025919, 0.011708567239188266, 0.0023417134478376533, 0.004683426895675307, 0.0, 0.007025140343512959, 0.0, 0.004683426895675307, 0.0, 0.004683426895675307, 0.004683426895675307, 0.0, 0.0023417134478376533, 0.030442274821889492, 0.0, 0.0023417134478376533, 0.0023417134478376533, 0.0, 0.0023417134478376533, 0.0023417134478376533, 0.0, 0.004683426895675307, 0.0, 0.0023417134478376533, 0.0023417134478376533, 0.0023417134478376533, 0.0, 0.0023417134478376533, 0.030442274821889492, 0.0, 0.0, 0.0, 0.0023417134478376533, 0.0, 0.0, 0.0, 0.0, 0.0023417134478376533, 0.0, 0.004683426895675307, 0.0023417134478376533, 0.0, 0.0, 0.0, 0.0, 0.0, 0.0, 0.0023417134478376533, 0.01639199413486357, 0.0, 0.0023417134478376533, 0.0, 0.0023417134478376533, 0.0, 0.0, 0.0, 0.0, 0.0023417134478376533, 0.009366853791350613, 0.0, 0.0, 0.0023417134478376533, 0.009366853791350613, 0.0, 0.0, 0.0, 0.004683426895675307, 0.0, 0.0023417134478376533, 0.0023417134478376533, 0.0, 0.0023417134478376533, 0.0023417134478376533, 0.0, 0.011708567239188266, 0.004683426895675307, 0.014050280687025919, 0.01639199413486357, 0.004683426895675307, 0.004683426895675307, 0.0023417134478376533, 0.0, 0.011708567239188266, 0.0, 0.0023417134478376533, 0.0023417134478376533, 0.014050280687025919, 0.01639199413486357, 0.0023417134478376533, 0.0, 0.007025140343512959, 0.0023417134478376533, 0.007025140343512959, 0.0, 0.0, 0.0, 0.0, 0.0, 0.0, 0.0, 0.007025140343512959, 0.0023417134478376533, 0.0, 0.0023417134478376533, 0.0, 0.007025140343512959, 0.0023417134478376533, 0.0, 0.0023417134478376533, 0.0, 0.0023417134478376533, 0.0, 0.0023417134478376533, 0.009366853791350613, 0.011708567239188266, 0.004683426895675307, 0.0, 0.0023417134478376533, 0.007025140343512959, 0.0, 0.0, 0.0, 0.0, 0.0, 0.014050280687025919, 0.011708567239188266, 0.004683426895675307, 0.014050280687025919, 0.01639199413486357, 0.004683426895675307, 0.0023417134478376533, 0.0023417134478376533, 0.0023417134478376533, 0.0023417134478376533, 0.0, 0.0023417134478376533, 0.0, 0.0023417134478376533, 0.0, 0.0023417134478376533, 0.0, 0.0023417134478376533, 0.0, 0.0023417134478376533, 0.014050280687025919, 0.0023417134478376533, 0.0, 0.0023417134478376533, 0.0, 0.0, 0.0, 0.0, 0.009366853791350613, 0.007025140343512959, 0.0, 0.01639199413486357, 0.0023417134478376533, 0.0023417134478376533, 0.0, 0.0023417134478376533, 0.0, 0.0, 0.004683426895675307, 0.0, 0.0023417134478376533, 0.004683426895675307, 0.0, 0.0023417134478376533, 0.004683426895675307, 0.0023417134478376533, 0.009366853791350613, 0.0, 0.0, 0.0, 0.0, 0.01639199413486357, 0.0023417134478376533, 0.0023417134478376533, 0.0, 0.0, 0.0, 0.0, 0.0023417134478376533, 0.0, 0.0, 0.014050280687025919, 0.0023417134478376533, 0.0, 0.007025140343512959, 0.0, 0.0, 0.0, 0.0, 0.0, 0.0, 0.007025140343512959, 0.030442274821889492, 0.0, 0.004683426895675307, 0.0023417134478376533, 0.011708567239188266, 0.0, 0.0, 0.011708567239188266, 0.0, 0.011708567239188266, 0.004683426895675307, 0.0, 0.007025140343512959, 0.009366853791350613, 0.030442274821889492, 0.0, 0.004683426895675307, 0.0, 0.0, 0.0, 0.0023417134478376533, 0.009366853791350613, 0.0, 0.014050280687025919, 0.007025140343512959, 0.0, 0.0, 0.0, 0.0023417134478376533, 0.014050280687025919, 0.004683426895675307, 0.01639199413486357, 0.0, 0.0, 0.0, 0.004683426895675307, 0.0, 0.01639199413486357, 0.0, 0.0023417134478376533, 0.0, 0.007025140343512959, 0.01639199413486357, 0.0, 0.004683426895675307, 0.0, 0.0, 0.0023417134478376533, 0.030442274821889492, 0.0, 0.0, 0.009366853791350613, 0.014050280687025919, 0.007025140343512959, 0.0, 0.0, 0.0023417134478376533, 0.0023417134478376533, 0.01639199413486357, 0.0, 0.0023417134478376533, 0.0, 0.0023417134478376533, 0.0023417134478376533, 0.0, 0.0023417134478376533, 0.030442274821889492, 0.0, 0.0, 0.0, 0.0, 0.0, 0.0, 0.0, 0.0023417134478376533, 0.0, 0.0023417134478376533, 0.0, 0.007025140343512959, 0.0023417134478376533, 0.0023417134478376533, 0.0023417134478376533, 0.0, 0.0023417134478376533, 0.0, 0.0, 0.0, 0.011708567239188266, 0.0, 0.009366853791350613, 0.0, 0.007025140343512959, 0.0, 0.0, 0.0, 0.009366853791350613, 0.030442274821889492, 0.0, 0.0023417134478376533, 0.030442274821889492, 0.0, 0.009366853791350613, 0.030442274821889492, 0.0, 0.0, 0.0, 0.0023417134478376533, 0.0, 0.007025140343512959, 0.030442274821889492, 0.0, 0.01639199413486357, 0.0023417134478376533, 0.007025140343512959, 0.0023417134478376533, 0.0, 0.0, 0.004683426895675307, 0.0023417134478376533, 0.0, 0.0023417134478376533, 0.0, 0.0, 0.0, 0.0023417134478376533, 0.0, 0.0, 0.0, 0.0, 0.009366853791350613, 0.030442274821889492, 0.0, 0.0, 0.0, 0.009366853791350613, 0.0, 0.004683426895675307, 0.007025140343512959, 0.0, 0.0023417134478376533, 0.0, 0.004683426895675307, 0.0, 0.014050280687025919, 0.009366853791350613, 0.0, 0.014050280687025919, 0.007025140343512959, 0.0, 0.0, 0.0023417134478376533, 0.0, 0.01639199413486357, 0.0, 0.0023417134478376533, 0.0, 0.009366853791350613, 0.0, 0.0023417134478376533, 0.0, 0.01639199413486357, 0.0023417134478376533, 0.0, 0.0023417134478376533, 0.0, 0.0023417134478376533, 0.0, 0.0023417134478376533, 0.0, 0.0023417134478376533, 0.0, 0.0023417134478376533, 0.0, 0.0023417134478376533, 0.0, 0.0023417134478376533, 0.0, 0.004683426895675307, 0.0023417134478376533, 0.0, 0.0023417134478376533, 0.0, 0.0023417134478376533, 0.0, 0.0023417134478376533, 0.004683426895675307, 0.0, 0.0023417134478376533, 0.0, 0.014050280687025919, 0.0, 0.0023417134478376533, 0.0, 0.0, 0.0023417134478376533, 0.0, 0.0, 0.0023417134478376533, 0.0023417134478376533, 0.0023417134478376533, 0.0023417134478376533, 0.0023417134478376533, 0.0023417134478376533, 0.004683426895675307, 0.014050280687025919, 0.0023417134478376533, 0.0, 0.01639199413486357, 0.0, 0.0, 0.009366853791350613, 0.0023417134478376533, 0.0, 0.0023417134478376533, 0.0023417134478376533, 0.0023417134478376533, 0.0, 0.0, 0.004683426895675307, 0.0, 0.0, 0.0023417134478376533, 0.0023417134478376533, 0.0, 0.0, 0.0, 0.011708567239188266, 0.0, 0.004683426895675307, 0.0, 0.0023417134478376533, 0.007025140343512959, 0.004683426895675307, 0.014050280687025919, 0.0023417134478376533, 0.0023417134478376533, 0.01639199413486357, 0.0, 0.0, 0.0023417134478376533, 0.0, 0.0, 0.0, 0.004683426895675307, 0.0, 0.0023417134478376533, 0.0, 0.0023417134478376533, 0.0, 0.0023417134478376533, 0.0023417134478376533, 0.0, 0.0023417134478376533, 0.0023417134478376533, 0.0, 0.0, 0.0, 0.011708567239188266, 0.0, 0.0, 0.0, 0.004683426895675307, 0.0023417134478376533, 0.0, 0.0023417134478376533, 0.0, 0.0023417134478376533, 0.0023417134478376533, 0.0023417134478376533, 0.0023417134478376533, 0.0, 0.0023417134478376533, 0.007025140343512959, 0.007025140343512959, 0.0, 0.0, 0.0023417134478376533, 0.0, 0.0, 0.0023417134478376533, 0.0023417134478376533, 0.0, 0.007025140343512959, 0.0, 0.01639199413486357, 0.004683426895675307, 0.007025140343512959, 0.0023417134478376533, 0.004683426895675307, 0.009366853791350613, 0.014050280687025919, 0.0, 0.007025140343512959, 0.014050280687025919, 0.0, 0.014050280687025919, 0.0023417134478376533, 0.0, 0.0, 0.004683426895675307, 0.004683426895675307, 0.0, 0.0, 0.011708567239188266, 0.0, 0.011708567239188266, 0.0, 0.0023417134478376533, 0.0, 0.014050280687025919, 0.011708567239188266, 0.0023417134478376533, 0.0023417134478376533, 0.01639199413486357, 0.0023417134478376533, 0.014050280687025919, 0.007025140343512959, 0.004683426895675307, 0.01639199413486357, 0.01639199413486357, 0.0, 0.0, 0.0023417134478376533, 0.0, 0.0023417134478376533, 0.0, 0.0, 0.0023417134478376533, 0.0, 0.0, 0.0, 0.0, 0.004683426895675307, 0.0, 0.0, 0.0023417134478376533, 0.0, 0.0, 0.0, 0.0023417134478376533, 0.0, 0.0, 0.0023417134478376533, 0.0023417134478376533, 0.0023417134478376533, 0.0, 0.009366853791350613, 0.0, 0.0023417134478376533, 0.0, 0.0023417134478376533, 0.0023417134478376533, 0.0, 0.0023417134478376533, 0.0, 0.0023417134478376533, 0.0, 0.0, 0.007025140343512959, 0.004683426895675307, 0.0023417134478376533, 0.0023417134478376533, 0.0023417134478376533, 0.0023417134478376533, 0.0, 0.0, 0.0, 0.009366853791350613, 0.0, 0.0023417134478376533, 0.0, 0.0023417134478376533, 0.0023417134478376533, 0.0, 0.0023417134478376533, 0.004683426895675307, 0.004683426895675307, 0.004683426895675307, 0.004683426895675307, 0.0, 0.0023417134478376533, 0.0, 0.0023417134478376533, 0.0, 0.004683426895675307, 0.0]\n"
     ]
    }
   ],
   "source": [
    "print(df_token)"
   ]
  },
  {
   "cell_type": "code",
   "execution_count": 22,
   "id": "9d8a5d74-a9e0-4282-824e-e7c0abc9c469",
   "metadata": {},
   "outputs": [
    {
     "name": "stdout",
     "output_type": "stream",
     "text": [
      "[0.0033324383680766604, 0.0, 0.0033324383680766604, 0.0, 0.013329753472306641, 0.0033324383680766604, 0.0, 0.0, 0.0, 0.006664876736153321, 0.0, 0.0, 0.0, 0.0033324383680766604, 0.0, 0.0033324383680766604, 0.0033324383680766604, 0.0033324383680766604, 0.006664876736153321, 0.0, 0.0, 0.0, 0.0, 0.0, 0.0, 0.0, 0.0, 0.0, 0.0, 0.006664876736153321, 0.0033324383680766604, 0.0, 0.0, 0.0, 0.0033324383680766604, 0.0, 0.0033324383680766604, 0.0, 0.013329753472306641, 0.013329753472306641, 0.0, 0.0, 0.006664876736153321, 0.0, 0.0033324383680766604, 0.0, 0.0, 0.0033324383680766604, 0.0, 0.0, 0.0, 0.0033324383680766604, 0.0, 0.0033324383680766604, 0.0033324383680766604, 0.0033324383680766604, 0.0, 0.0033324383680766604, 0.0033324383680766604, 0.0033324383680766604, 0.0, 0.0033324383680766604, 0.0, 0.0, 0.0, 0.0, 0.00999731510422998, 0.0, 0.0, 0.0, 0.0, 0.0, 0.0, 0.0, 0.0033324383680766604, 0.0, 0.0033324383680766604, 0.0, 0.0033324383680766604, 0.0, 0.0, 0.0, 0.0033324383680766604, 0.0, 0.0033324383680766604, 0.0, 0.0166621918403833, 0.0033324383680766604, 0.0033324383680766604, 0.0033324383680766604, 0.0, 0.0033324383680766604, 0.0, 0.0, 0.0, 0.0, 0.013329753472306641, 0.013329753472306641, 0.0, 0.0, 0.0033324383680766604, 0.0, 0.0, 0.0, 0.0, 0.0, 0.0, 0.0, 0.0, 0.0033324383680766604, 0.0033324383680766604, 0.0, 0.0, 0.0166621918403833, 0.0166621918403833, 0.0, 0.0, 0.00999731510422998, 0.0033324383680766604, 0.006664876736153321, 0.0, 0.0033324383680766604, 0.0, 0.0033324383680766604, 0.0, 0.00999731510422998, 0.0, 0.0, 0.0, 0.0, 0.0, 0.0, 0.0, 0.0, 0.006664876736153321, 0.0, 0.0, 0.006664876736153321, 0.0033324383680766604, 0.0, 0.0, 0.0166621918403833, 0.006664876736153321, 0.0, 0.0, 0.0, 0.006664876736153321, 0.0, 0.0033324383680766604, 0.006664876736153321, 0.0033324383680766604, 0.0033324383680766604, 0.0033324383680766604, 0.006664876736153321, 0.0033324383680766604, 0.0033324383680766604, 0.0, 0.0, 0.0, 0.0, 0.0, 0.013329753472306641, 0.013329753472306641, 0.0, 0.006664876736153321, 0.0, 0.0, 0.0, 0.0166621918403833, 0.0, 0.0, 0.0, 0.0033324383680766604, 0.0, 0.0033324383680766604, 0.0, 0.0033324383680766604, 0.0, 0.0, 0.0, 0.0, 0.006664876736153321, 0.0, 0.0166621918403833, 0.006664876736153321, 0.0, 0.0033324383680766604, 0.0, 0.0, 0.006664876736153321, 0.0, 0.0, 0.0, 0.0033324383680766604, 0.0, 0.0, 0.0, 0.0, 0.0, 0.006664876736153321, 0.0, 0.0033324383680766604, 0.0, 0.0, 0.0, 0.006664876736153321, 0.0, 0.0, 0.0033324383680766604, 0.0033324383680766604, 0.0, 0.0033324383680766604, 0.0, 0.0, 0.0166621918403833, 0.0, 0.00999731510422998, 0.0166621918403833, 0.0, 0.0033324383680766604, 0.0, 0.0, 0.0, 0.0033324383680766604, 0.0, 0.013329753472306641, 0.0033324383680766604, 0.0, 0.0033324383680766604, 0.0, 0.0, 0.006664876736153321, 0.00999731510422998, 0.013329753472306641, 0.013329753472306641, 0.0, 0.0, 0.0033324383680766604, 0.0033324383680766604, 0.006664876736153321, 0.0166621918403833, 0.0, 0.0033324383680766604, 0.0, 0.0, 0.0, 0.0, 0.0033324383680766604, 0.0, 0.0033324383680766604, 0.0, 0.0033324383680766604, 0.0, 0.0033324383680766604, 0.0033324383680766604, 0.0033324383680766604, 0.0, 0.0, 0.0, 0.0, 0.006664876736153321, 0.0, 0.0, 0.0033324383680766604, 0.0033324383680766604, 0.0, 0.0033324383680766604, 0.00999731510422998, 0.0033324383680766604, 0.0, 0.0033324383680766604, 0.0, 0.0, 0.0, 0.006664876736153321, 0.0166621918403833, 0.0, 0.0, 0.0033324383680766604, 0.0, 0.0, 0.0, 0.0, 0.0, 0.0, 0.0, 0.006664876736153321, 0.0033324383680766604, 0.006664876736153321, 0.0, 0.013329753472306641, 0.006664876736153321, 0.0, 0.0166621918403833, 0.0, 0.0, 0.0033324383680766604, 0.0033324383680766604, 0.0, 0.0, 0.0033324383680766604, 0.0033324383680766604, 0.0, 0.013329753472306641, 0.0, 0.0033324383680766604, 0.006664876736153321, 0.0, 0.0033324383680766604, 0.0, 0.0033324383680766604, 0.0033324383680766604, 0.0033324383680766604, 0.0033324383680766604, 0.0, 0.0166621918403833, 0.0033324383680766604, 0.0033324383680766604, 0.0, 0.0033324383680766604, 0.006664876736153321, 0.0, 0.0166621918403833, 0.0033324383680766604, 0.0, 0.0033324383680766604, 0.0033324383680766604, 0.0033324383680766604, 0.006664876736153321, 0.0, 0.006664876736153321, 0.0, 0.0, 0.0, 0.0, 0.0, 0.0033324383680766604, 0.0033324383680766604, 0.0, 0.0, 0.006664876736153321, 0.00999731510422998, 0.0, 0.0, 0.0033324383680766604, 0.0, 0.0033324383680766604, 0.013329753472306641, 0.0, 0.0033324383680766604, 0.0, 0.0033324383680766604, 0.0033324383680766604, 0.0, 0.0, 0.0, 0.0, 0.0, 0.0166621918403833, 0.006664876736153321, 0.0166621918403833, 0.0, 0.0033324383680766604, 0.0, 0.0, 0.0033324383680766604, 0.0, 0.013329753472306641, 0.006664876736153321, 0.0, 0.0, 0.0033324383680766604, 0.00999731510422998, 0.013329753472306641, 0.0, 0.0033324383680766604, 0.0, 0.013329753472306641, 0.0, 0.0033324383680766604, 0.0, 0.0, 0.0, 0.0, 0.0, 0.0, 0.00999731510422998, 0.0033324383680766604, 0.006664876736153321, 0.0033324383680766604, 0.0, 0.0, 0.0, 0.0, 0.0, 0.0, 0.0, 0.0033324383680766604, 0.0, 0.0, 0.0, 0.0, 0.0033324383680766604, 0.0033324383680766604, 0.0033324383680766604, 0.006664876736153321, 0.0, 0.0033324383680766604, 0.006664876736153321, 0.0, 0.0, 0.0, 0.0033324383680766604, 0.0, 0.0, 0.0, 0.0, 0.0, 0.0, 0.0033324383680766604, 0.0033324383680766604, 0.0, 0.0, 0.0033324383680766604, 0.0033324383680766604, 0.0033324383680766604, 0.0, 0.0033324383680766604, 0.0033324383680766604, 0.0033324383680766604, 0.0, 0.0, 0.0, 0.0]\n"
     ]
    }
   ],
   "source": [
    "print(df1_token)"
   ]
  }
 ],
 "metadata": {
  "kernelspec": {
   "display_name": "Python 3 (ipykernel)",
   "language": "python",
   "name": "python3"
  },
  "language_info": {
   "codemirror_mode": {
    "name": "ipython",
    "version": 3
   },
   "file_extension": ".py",
   "mimetype": "text/x-python",
   "name": "python",
   "nbconvert_exporter": "python",
   "pygments_lexer": "ipython3",
   "version": "3.9.6"
  }
 },
 "nbformat": 4,
 "nbformat_minor": 5
}
