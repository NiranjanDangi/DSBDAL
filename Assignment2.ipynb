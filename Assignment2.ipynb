{
 "cells": [
  {
   "cell_type": "markdown",
   "id": "153ab81b-f5f6-4bee-a1f5-bd0d11a9bc19",
   "metadata": {},
   "source": [
    "#### Create an “Academic performance” dataset of students and perform the following operations using Python. transformation should be one of the following reasons: to change the scale for better\n",
    "#### 1.Scan all variables for missing values and inconsistencies. If there are missing values and/or inconsistencies, use any of the suitable techniques to deal with them.\n",
    "\n",
    "#### 2.Scan all numeric variables for outliers. If there are outliers, use any of the suitable techniques to deal with them.\n",
    "\n",
    "#### 3.Apply data transformations on at least one of the variables. The purpose of this: understanding of the variable, to convert a non-linear relation into a linear one, or to decrease the skewness and convert the distribution into a normal distribution. Reason and document your approach properly.\n",
    "\n",
    "#### Dataset details: https://www.kaggle.com/datasets/spscientist/students-performance-in-exams"
   ]
  },
  {
   "cell_type": "code",
   "execution_count": 4,
   "id": "f534cf07-7939-4068-8de1-2e00d6e6adf2",
   "metadata": {},
   "outputs": [
    {
     "name": "stdout",
     "output_type": "stream",
     "text": [
      "Requirement already satisfied: numpy in /Users/niranjan/Documents/venv/lib/python3.9/site-packages (2.0.2)\n",
      "Requirement already satisfied: pandas in /Users/niranjan/Documents/venv/lib/python3.9/site-packages (2.2.3)\n",
      "Requirement already satisfied: seaborn in /Users/niranjan/Documents/venv/lib/python3.9/site-packages (0.13.2)\n",
      "Requirement already satisfied: matplotlib in /Users/niranjan/Documents/venv/lib/python3.9/site-packages (3.9.4)\n",
      "Requirement already satisfied: tzdata>=2022.7 in /Users/niranjan/Documents/venv/lib/python3.9/site-packages (from pandas) (2025.2)\n",
      "Requirement already satisfied: python-dateutil>=2.8.2 in /Users/niranjan/Documents/venv/lib/python3.9/site-packages (from pandas) (2.9.0.post0)\n",
      "Requirement already satisfied: pytz>=2020.1 in /Users/niranjan/Documents/venv/lib/python3.9/site-packages (from pandas) (2025.2)\n",
      "Requirement already satisfied: fonttools>=4.22.0 in /Users/niranjan/Documents/venv/lib/python3.9/site-packages (from matplotlib) (4.57.0)\n",
      "Requirement already satisfied: packaging>=20.0 in /Users/niranjan/Documents/venv/lib/python3.9/site-packages (from matplotlib) (25.0)\n",
      "Requirement already satisfied: cycler>=0.10 in /Users/niranjan/Documents/venv/lib/python3.9/site-packages (from matplotlib) (0.12.1)\n",
      "Requirement already satisfied: pillow>=8 in /Users/niranjan/Documents/venv/lib/python3.9/site-packages (from matplotlib) (11.2.1)\n",
      "Requirement already satisfied: pyparsing>=2.3.1 in /Users/niranjan/Documents/venv/lib/python3.9/site-packages (from matplotlib) (3.2.3)\n",
      "Requirement already satisfied: contourpy>=1.0.1 in /Users/niranjan/Documents/venv/lib/python3.9/site-packages (from matplotlib) (1.3.0)\n",
      "Requirement already satisfied: importlib-resources>=3.2.0 in /Users/niranjan/Documents/venv/lib/python3.9/site-packages (from matplotlib) (6.5.2)\n",
      "Requirement already satisfied: kiwisolver>=1.3.1 in /Users/niranjan/Documents/venv/lib/python3.9/site-packages (from matplotlib) (1.4.7)\n",
      "Requirement already satisfied: zipp>=3.1.0 in /Users/niranjan/Documents/venv/lib/python3.9/site-packages (from importlib-resources>=3.2.0->matplotlib) (3.21.0)\n",
      "Requirement already satisfied: six>=1.5 in /Users/niranjan/Documents/venv/lib/python3.9/site-packages (from python-dateutil>=2.8.2->pandas) (1.17.0)\n",
      "\u001b[33mWARNING: You are using pip version 21.2.4; however, version 25.0.1 is available.\n",
      "You should consider upgrading via the '/Users/niranjan/Documents/venv/bin/python3 -m pip install --upgrade pip' command.\u001b[0m\n",
      "Note: you may need to restart the kernel to use updated packages.\n"
     ]
    }
   ],
   "source": [
    "pip install numpy pandas seaborn matplotlib"
   ]
  },
  {
   "cell_type": "code",
   "execution_count": 5,
   "id": "fe91a549-bb0d-4693-afa9-4eec981efb53",
   "metadata": {},
   "outputs": [],
   "source": [
    "import numpy as np\n",
    "import pandas as pd\n",
    "import seaborn as sns\n",
    "import matplotlib.pyplot as plt"
   ]
  },
  {
   "cell_type": "code",
   "execution_count": 6,
   "id": "f5ec91fb-88cf-44e3-8544-4f537a0c4919",
   "metadata": {},
   "outputs": [
    {
     "data": {
      "text/html": [
       "<div>\n",
       "<style scoped>\n",
       "    .dataframe tbody tr th:only-of-type {\n",
       "        vertical-align: middle;\n",
       "    }\n",
       "\n",
       "    .dataframe tbody tr th {\n",
       "        vertical-align: top;\n",
       "    }\n",
       "\n",
       "    .dataframe thead th {\n",
       "        text-align: right;\n",
       "    }\n",
       "</style>\n",
       "<table border=\"1\" class=\"dataframe\">\n",
       "  <thead>\n",
       "    <tr style=\"text-align: right;\">\n",
       "      <th></th>\n",
       "      <th>gender</th>\n",
       "      <th>race/ethnicity</th>\n",
       "      <th>parental level of education</th>\n",
       "      <th>lunch</th>\n",
       "      <th>test preparation course</th>\n",
       "      <th>math score</th>\n",
       "      <th>reading score</th>\n",
       "      <th>writing score</th>\n",
       "    </tr>\n",
       "  </thead>\n",
       "  <tbody>\n",
       "    <tr>\n",
       "      <th>0</th>\n",
       "      <td>female</td>\n",
       "      <td>group B</td>\n",
       "      <td>bachelor's degree</td>\n",
       "      <td>standard</td>\n",
       "      <td>none</td>\n",
       "      <td>72</td>\n",
       "      <td>72</td>\n",
       "      <td>74</td>\n",
       "    </tr>\n",
       "    <tr>\n",
       "      <th>1</th>\n",
       "      <td>female</td>\n",
       "      <td>group C</td>\n",
       "      <td>some college</td>\n",
       "      <td>standard</td>\n",
       "      <td>completed</td>\n",
       "      <td>69</td>\n",
       "      <td>90</td>\n",
       "      <td>88</td>\n",
       "    </tr>\n",
       "    <tr>\n",
       "      <th>2</th>\n",
       "      <td>female</td>\n",
       "      <td>group B</td>\n",
       "      <td>master's degree</td>\n",
       "      <td>standard</td>\n",
       "      <td>none</td>\n",
       "      <td>90</td>\n",
       "      <td>95</td>\n",
       "      <td>93</td>\n",
       "    </tr>\n",
       "    <tr>\n",
       "      <th>3</th>\n",
       "      <td>male</td>\n",
       "      <td>group A</td>\n",
       "      <td>associate's degree</td>\n",
       "      <td>free/reduced</td>\n",
       "      <td>none</td>\n",
       "      <td>47</td>\n",
       "      <td>57</td>\n",
       "      <td>44</td>\n",
       "    </tr>\n",
       "    <tr>\n",
       "      <th>4</th>\n",
       "      <td>male</td>\n",
       "      <td>group C</td>\n",
       "      <td>some college</td>\n",
       "      <td>standard</td>\n",
       "      <td>none</td>\n",
       "      <td>76</td>\n",
       "      <td>78</td>\n",
       "      <td>75</td>\n",
       "    </tr>\n",
       "  </tbody>\n",
       "</table>\n",
       "</div>"
      ],
      "text/plain": [
       "   gender race/ethnicity parental level of education         lunch  \\\n",
       "0  female        group B           bachelor's degree      standard   \n",
       "1  female        group C                some college      standard   \n",
       "2  female        group B             master's degree      standard   \n",
       "3    male        group A          associate's degree  free/reduced   \n",
       "4    male        group C                some college      standard   \n",
       "\n",
       "  test preparation course  math score  reading score  writing score  \n",
       "0                    none          72             72             74  \n",
       "1               completed          69             90             88  \n",
       "2                    none          90             95             93  \n",
       "3                    none          47             57             44  \n",
       "4                    none          76             78             75  "
      ]
     },
     "execution_count": 6,
     "metadata": {},
     "output_type": "execute_result"
    }
   ],
   "source": [
    "df = pd.read_csv(\"StudentsPerformance.csv\")\n",
    "df.head()"
   ]
  },
  {
   "cell_type": "markdown",
   "id": "5f84ee16-62cb-42b9-975c-19504d492cd9",
   "metadata": {},
   "source": [
    "### Renaning Columns :"
   ]
  },
  {
   "cell_type": "code",
   "execution_count": 7,
   "id": "753d4d63-5120-4d93-87cc-ed748caf5465",
   "metadata": {
    "scrolled": true
   },
   "outputs": [
    {
     "data": {
      "text/html": [
       "<div>\n",
       "<style scoped>\n",
       "    .dataframe tbody tr th:only-of-type {\n",
       "        vertical-align: middle;\n",
       "    }\n",
       "\n",
       "    .dataframe tbody tr th {\n",
       "        vertical-align: top;\n",
       "    }\n",
       "\n",
       "    .dataframe thead th {\n",
       "        text-align: right;\n",
       "    }\n",
       "</style>\n",
       "<table border=\"1\" class=\"dataframe\">\n",
       "  <thead>\n",
       "    <tr style=\"text-align: right;\">\n",
       "      <th></th>\n",
       "      <th>gender</th>\n",
       "      <th>race</th>\n",
       "      <th>parent_edu</th>\n",
       "      <th>lunch</th>\n",
       "      <th>test_course</th>\n",
       "      <th>math_score</th>\n",
       "      <th>reading_score</th>\n",
       "      <th>writing_score</th>\n",
       "    </tr>\n",
       "  </thead>\n",
       "  <tbody>\n",
       "    <tr>\n",
       "      <th>0</th>\n",
       "      <td>female</td>\n",
       "      <td>group B</td>\n",
       "      <td>bachelor's degree</td>\n",
       "      <td>standard</td>\n",
       "      <td>none</td>\n",
       "      <td>72</td>\n",
       "      <td>72</td>\n",
       "      <td>74</td>\n",
       "    </tr>\n",
       "    <tr>\n",
       "      <th>1</th>\n",
       "      <td>female</td>\n",
       "      <td>group C</td>\n",
       "      <td>some college</td>\n",
       "      <td>standard</td>\n",
       "      <td>completed</td>\n",
       "      <td>69</td>\n",
       "      <td>90</td>\n",
       "      <td>88</td>\n",
       "    </tr>\n",
       "    <tr>\n",
       "      <th>2</th>\n",
       "      <td>female</td>\n",
       "      <td>group B</td>\n",
       "      <td>master's degree</td>\n",
       "      <td>standard</td>\n",
       "      <td>none</td>\n",
       "      <td>90</td>\n",
       "      <td>95</td>\n",
       "      <td>93</td>\n",
       "    </tr>\n",
       "    <tr>\n",
       "      <th>3</th>\n",
       "      <td>male</td>\n",
       "      <td>group A</td>\n",
       "      <td>associate's degree</td>\n",
       "      <td>free/reduced</td>\n",
       "      <td>none</td>\n",
       "      <td>47</td>\n",
       "      <td>57</td>\n",
       "      <td>44</td>\n",
       "    </tr>\n",
       "    <tr>\n",
       "      <th>4</th>\n",
       "      <td>male</td>\n",
       "      <td>group C</td>\n",
       "      <td>some college</td>\n",
       "      <td>standard</td>\n",
       "      <td>none</td>\n",
       "      <td>76</td>\n",
       "      <td>78</td>\n",
       "      <td>75</td>\n",
       "    </tr>\n",
       "    <tr>\n",
       "      <th>...</th>\n",
       "      <td>...</td>\n",
       "      <td>...</td>\n",
       "      <td>...</td>\n",
       "      <td>...</td>\n",
       "      <td>...</td>\n",
       "      <td>...</td>\n",
       "      <td>...</td>\n",
       "      <td>...</td>\n",
       "    </tr>\n",
       "    <tr>\n",
       "      <th>995</th>\n",
       "      <td>female</td>\n",
       "      <td>group E</td>\n",
       "      <td>master's degree</td>\n",
       "      <td>standard</td>\n",
       "      <td>completed</td>\n",
       "      <td>88</td>\n",
       "      <td>99</td>\n",
       "      <td>95</td>\n",
       "    </tr>\n",
       "    <tr>\n",
       "      <th>996</th>\n",
       "      <td>male</td>\n",
       "      <td>group C</td>\n",
       "      <td>high school</td>\n",
       "      <td>free/reduced</td>\n",
       "      <td>none</td>\n",
       "      <td>62</td>\n",
       "      <td>55</td>\n",
       "      <td>55</td>\n",
       "    </tr>\n",
       "    <tr>\n",
       "      <th>997</th>\n",
       "      <td>female</td>\n",
       "      <td>group C</td>\n",
       "      <td>high school</td>\n",
       "      <td>free/reduced</td>\n",
       "      <td>completed</td>\n",
       "      <td>59</td>\n",
       "      <td>71</td>\n",
       "      <td>65</td>\n",
       "    </tr>\n",
       "    <tr>\n",
       "      <th>998</th>\n",
       "      <td>female</td>\n",
       "      <td>group D</td>\n",
       "      <td>some college</td>\n",
       "      <td>standard</td>\n",
       "      <td>completed</td>\n",
       "      <td>68</td>\n",
       "      <td>78</td>\n",
       "      <td>77</td>\n",
       "    </tr>\n",
       "    <tr>\n",
       "      <th>999</th>\n",
       "      <td>female</td>\n",
       "      <td>group D</td>\n",
       "      <td>some college</td>\n",
       "      <td>free/reduced</td>\n",
       "      <td>none</td>\n",
       "      <td>77</td>\n",
       "      <td>86</td>\n",
       "      <td>86</td>\n",
       "    </tr>\n",
       "  </tbody>\n",
       "</table>\n",
       "<p>1000 rows × 8 columns</p>\n",
       "</div>"
      ],
      "text/plain": [
       "     gender     race          parent_edu         lunch test_course  \\\n",
       "0    female  group B   bachelor's degree      standard        none   \n",
       "1    female  group C        some college      standard   completed   \n",
       "2    female  group B     master's degree      standard        none   \n",
       "3      male  group A  associate's degree  free/reduced        none   \n",
       "4      male  group C        some college      standard        none   \n",
       "..      ...      ...                 ...           ...         ...   \n",
       "995  female  group E     master's degree      standard   completed   \n",
       "996    male  group C         high school  free/reduced        none   \n",
       "997  female  group C         high school  free/reduced   completed   \n",
       "998  female  group D        some college      standard   completed   \n",
       "999  female  group D        some college  free/reduced        none   \n",
       "\n",
       "     math_score  reading_score  writing_score  \n",
       "0            72             72             74  \n",
       "1            69             90             88  \n",
       "2            90             95             93  \n",
       "3            47             57             44  \n",
       "4            76             78             75  \n",
       "..          ...            ...            ...  \n",
       "995          88             99             95  \n",
       "996          62             55             55  \n",
       "997          59             71             65  \n",
       "998          68             78             77  \n",
       "999          77             86             86  \n",
       "\n",
       "[1000 rows x 8 columns]"
      ]
     },
     "execution_count": 7,
     "metadata": {},
     "output_type": "execute_result"
    }
   ],
   "source": [
    "df = df.rename(columns = {\n",
    "    \"race/ethnicity\" : \"race\",\n",
    "    \"parental level of education\" : \"parent_edu\",\n",
    "    \"test preparation course\" : \"test_course\",\n",
    "    \"math score\" : \"math_score\",\n",
    "    \"reading score\" : \"reading_score\",\n",
    "    \"writing score\" : \"writing_score\"\n",
    "});\n",
    "df"
   ]
  },
  {
   "cell_type": "markdown",
   "id": "00ea7a2d-d14b-4f05-b9bd-0a8e7dc8c1e6",
   "metadata": {},
   "source": [
    "#### 1.Scan all variables for missing values and inconsistencies. If there are missing values and/or inconsistencies, use any of the suitable techniques to deal with them."
   ]
  },
  {
   "cell_type": "markdown",
   "id": "4a9d2514-5615-4f24-866b-da48115ef5d6",
   "metadata": {},
   "source": [
    "#### 1.1 Checking for null values"
   ]
  },
  {
   "cell_type": "code",
   "execution_count": 8,
   "id": "1791307d-10f1-4255-b006-81c4468c8052",
   "metadata": {},
   "outputs": [
    {
     "data": {
      "text/plain": [
       "gender           0\n",
       "race             0\n",
       "parent_edu       0\n",
       "lunch            0\n",
       "test_course      0\n",
       "math_score       0\n",
       "reading_score    0\n",
       "writing_score    0\n",
       "dtype: int64"
      ]
     },
     "execution_count": 8,
     "metadata": {},
     "output_type": "execute_result"
    }
   ],
   "source": [
    "df.isnull().sum()"
   ]
  },
  {
   "cell_type": "markdown",
   "id": "9576e024-faac-4e18-9c73-e5a19e6a8869",
   "metadata": {},
   "source": [
    "#### 2.Scan all numeric variables for outliers. If there are outliers, use any of the suitable techniques to deal with them."
   ]
  },
  {
   "cell_type": "code",
   "execution_count": 9,
   "id": "1df49b91-db8e-437b-8034-2373147d3e3d",
   "metadata": {},
   "outputs": [
    {
     "data": {
      "image/png": "[encoded data removed]",
      "text/plain": [
       "<Figure size 1500x500 with 3 Axes>"
      ]
     },
     "metadata": {},
     "output_type": "display_data"
    }
   ],
   "source": [
    "fig,axes = plt.subplots(1,3,figsize = (15,5));\n",
    "\n",
    "sns.boxplot(data = df[\"math_score\"], ax = axes[0]);\n",
    "sns.boxplot(data = df[\"reading_score\"], ax = axes[1]);\n",
    "sns.boxplot(data = df[\"writing_score\"], ax = axes[2]);"
   ]
  },
  {
   "cell_type": "code",
   "execution_count": 10,
   "id": "7e2a8aa6-d0ae-43c3-98c7-1649bed91dac",
   "metadata": {},
   "outputs": [
    {
     "data": {
      "image/png": "[encoded data removed]",
      "text/plain": [
       "<Figure size 1500x500 with 3 Axes>"
      ]
     },
     "metadata": {},
     "output_type": "display_data"
    }
   ],
   "source": [
    "fig,axes = plt.subplots(1,3,figsize = (15,5));\n",
    "\n",
    "sns.histplot(data = df[\"math_score\"], ax = axes[0]);\n",
    "sns.histplot(data = df[\"reading_score\"], ax = axes[1]);\n",
    "sns.histplot(data = df[\"writing_score\"], ax = axes[2]);"
   ]
  },
  {
   "cell_type": "code",
   "execution_count": 11,
   "id": "6262ce57-d092-4c2e-a132-75276afd2b63",
   "metadata": {},
   "outputs": [
    {
     "data": {
      "text/plain": [
       "np.float64(-0.27893514909431694)"
      ]
     },
     "execution_count": 11,
     "metadata": {},
     "output_type": "execute_result"
    }
   ],
   "source": [
    "df[\"math_score\"].skew()"
   ]
  },
  {
   "cell_type": "code",
   "execution_count": 12,
   "id": "b937cd00-634b-4b87-8cfa-3cb28d5ac131",
   "metadata": {},
   "outputs": [
    {
     "data": {
      "text/plain": [
       "np.float64(-0.25910451810923063)"
      ]
     },
     "execution_count": 12,
     "metadata": {},
     "output_type": "execute_result"
    }
   ],
   "source": [
    "df[\"reading_score\"].skew()"
   ]
  },
  {
   "cell_type": "code",
   "execution_count": 13,
   "id": "cd39cf51-f546-466b-abb3-a4074c837d66",
   "metadata": {},
   "outputs": [
    {
     "data": {
      "text/plain": [
       "np.float64(-0.28944397150761897)"
      ]
     },
     "execution_count": 13,
     "metadata": {},
     "output_type": "execute_result"
    }
   ],
   "source": [
    "df[\"writing_score\"].skew()"
   ]
  },
  {
   "cell_type": "code",
   "execution_count": 14,
   "id": "122a9ce5-8c7b-4745-aad5-ec1720970997",
   "metadata": {},
   "outputs": [],
   "source": [
    "def remove_outliers(feature):\n",
    "    global df\n",
    "    q3,q1 = np.percentile(df[feature],[75,25]);\n",
    "    iqr = q3 - q1\n",
    "    df = df[(df[feature] <= q3 + 1.5 * iqr ) & (df[feature] >= q1 - 1.5 * iqr)]"
   ]
  },
  {
   "cell_type": "code",
   "execution_count": 15,
   "id": "db43264a-9f01-4cf1-9521-d54c1bd19e6b",
   "metadata": {},
   "outputs": [],
   "source": [
    "remove_outliers(\"math_score\");\n",
    "remove_outliers(\"reading_score\");\n",
    "remove_outliers(\"writing_score\");"
   ]
  },
  {
   "cell_type": "code",
   "execution_count": 16,
   "id": "fa7edc9d-2c29-4e28-9d1e-983aa141645b",
   "metadata": {},
   "outputs": [
    {
     "data": {
      "image/png": "[encoded data removed]",
      "text/plain": [
       "<Figure size 1500x500 with 3 Axes>"
      ]
     },
     "metadata": {},
     "output_type": "display_data"
    }
   ],
   "source": [
    "fig,axes = plt.subplots(1,3,figsize = (15,5));\n",
    "\n",
    "sns.boxplot(data = df[\"math_score\"], ax = axes[0]);\n",
    "sns.boxplot(data = df[\"reading_score\"], ax = axes[1]);\n",
    "sns.boxplot(data = df[\"writing_score\"], ax = axes[2]);"
   ]
  },
  {
   "cell_type": "code",
   "execution_count": 17,
   "id": "b1e43c3f-70ee-45d1-a89c-22d51c22393a",
   "metadata": {},
   "outputs": [
    {
     "data": {
      "image/png": "[encoded data removed]",
      "text/plain": [
       "<Figure size 1500x500 with 3 Axes>"
      ]
     },
     "metadata": {},
     "output_type": "display_data"
    }
   ],
   "source": [
    "fig,axes = plt.subplots(1,3,figsize = (15,5));\n",
    "\n",
    "sns.histplot(data = df[\"math_score\"], ax = axes[0]);\n",
    "sns.histplot(data = df[\"reading_score\"], ax = axes[1]);\n",
    "sns.histplot(data = df[\"writing_score\"], ax = axes[2]);"
   ]
  },
  {
   "cell_type": "code",
   "execution_count": 18,
   "id": "698db18f-98af-4a94-bf1b-a72802b90e74",
   "metadata": {},
   "outputs": [
    {
     "data": {
      "text/plain": [
       "np.float64(-0.02597374258403439)"
      ]
     },
     "execution_count": 18,
     "metadata": {},
     "output_type": "execute_result"
    }
   ],
   "source": [
    "df[\"math_score\"].skew()"
   ]
  },
  {
   "cell_type": "code",
   "execution_count": 19,
   "id": "fcbe0292-97b1-4605-b82f-29c0fabafcbb",
   "metadata": {},
   "outputs": [
    {
     "data": {
      "text/plain": [
       "np.float64(-0.07767102775431023)"
      ]
     },
     "execution_count": 19,
     "metadata": {},
     "output_type": "execute_result"
    }
   ],
   "source": [
    "df[\"reading_score\"].skew()"
   ]
  },
  {
   "cell_type": "code",
   "execution_count": 20,
   "id": "031dfa59-757c-422d-b60f-cc42987c89cf",
   "metadata": {},
   "outputs": [
    {
     "data": {
      "text/plain": [
       "np.float64(-0.08436233633379218)"
      ]
     },
     "execution_count": 20,
     "metadata": {},
     "output_type": "execute_result"
    }
   ],
   "source": [
    "df[\"writing_score\"].skew()"
   ]
  },
  {
   "cell_type": "markdown",
   "id": "27e8daaf-cbcc-4d08-8a6c-154c06b46d0d",
   "metadata": {},
   "source": [
    "#### 3.Apply data transformations on at least one of the variables. The purpose of this: understanding of the variable, to convert a non-linear relation into a linear one, or to decrease the skewness and convert the distribution into a normal distribution. Reason and document your approach properly."
   ]
  },
  {
   "cell_type": "markdown",
   "id": "059c158f-5cc4-403e-8ce2-bf9930aa4d9f",
   "metadata": {},
   "source": [
    "#### 3.1 Encoding Categorial Data"
   ]
  },
  {
   "cell_type": "code",
   "execution_count": 21,
   "id": "81407cfa-627a-4f9e-a9b9-21da35014152",
   "metadata": {},
   "outputs": [],
   "source": [
    "def encode_categorial(feature):\n",
    "    values = df[feature].unique();\n",
    "    label = 0\n",
    "    for val in values:\n",
    "        df.loc[df[feature] == val,feature] = label\n",
    "        label += 1\n",
    "encode_categorial(\"gender\");\n",
    "encode_categorial(\"race\");\n",
    "encode_categorial(\"parent_edu\");\n",
    "encode_categorial(\"lunch\");\n",
    "encode_categorial(\"test_course\");"
   ]
  },
  {
   "cell_type": "markdown",
   "id": "d9fa5e93-0d97-4d2b-8694-c1c36ad81abf",
   "metadata": {},
   "source": [
    "#### 3.2 Normalizing Numerical Features"
   ]
  },
  {
   "cell_type": "code",
   "execution_count": 22,
   "id": "7e24d64e-c47e-427e-9bf5-aba11821afd5",
   "metadata": {},
   "outputs": [],
   "source": [
    "def zscore(feature):\n",
    "    df[feature] = ( df[feature] - df[feature].mean() ) / df[feature].std();\n",
    "zscore(\"math_score\");\n",
    "zscore(\"reading_score\");\n",
    "zscore(\"writing_score\");"
   ]
  },
  {
   "cell_type": "code",
   "execution_count": 23,
   "id": "82b1f85e-1e53-42e2-9135-52d93344e86c",
   "metadata": {},
   "outputs": [
    {
     "data": {
      "text/html": [
       "<div>\n",
       "<style scoped>\n",
       "    .dataframe tbody tr th:only-of-type {\n",
       "        vertical-align: middle;\n",
       "    }\n",
       "\n",
       "    .dataframe tbody tr th {\n",
       "        vertical-align: top;\n",
       "    }\n",
       "\n",
       "    .dataframe thead th {\n",
       "        text-align: right;\n",
       "    }\n",
       "</style>\n",
       "<table border=\"1\" class=\"dataframe\">\n",
       "  <thead>\n",
       "    <tr style=\"text-align: right;\">\n",
       "      <th></th>\n",
       "      <th>gender</th>\n",
       "      <th>race</th>\n",
       "      <th>parent_edu</th>\n",
       "      <th>lunch</th>\n",
       "      <th>test_course</th>\n",
       "      <th>math_score</th>\n",
       "      <th>reading_score</th>\n",
       "      <th>writing_score</th>\n",
       "    </tr>\n",
       "  </thead>\n",
       "  <tbody>\n",
       "    <tr>\n",
       "      <th>0</th>\n",
       "      <td>0</td>\n",
       "      <td>0</td>\n",
       "      <td>0</td>\n",
       "      <td>0</td>\n",
       "      <td>0</td>\n",
       "      <td>0.369943</td>\n",
       "      <td>0.163678</td>\n",
       "      <td>0.370964</td>\n",
       "    </tr>\n",
       "    <tr>\n",
       "      <th>1</th>\n",
       "      <td>0</td>\n",
       "      <td>1</td>\n",
       "      <td>1</td>\n",
       "      <td>0</td>\n",
       "      <td>1</td>\n",
       "      <td>0.160750</td>\n",
       "      <td>1.457644</td>\n",
       "      <td>1.341360</td>\n",
       "    </tr>\n",
       "    <tr>\n",
       "      <th>2</th>\n",
       "      <td>0</td>\n",
       "      <td>0</td>\n",
       "      <td>2</td>\n",
       "      <td>0</td>\n",
       "      <td>0</td>\n",
       "      <td>1.625105</td>\n",
       "      <td>1.817079</td>\n",
       "      <td>1.687930</td>\n",
       "    </tr>\n",
       "    <tr>\n",
       "      <th>3</th>\n",
       "      <td>1</td>\n",
       "      <td>2</td>\n",
       "      <td>3</td>\n",
       "      <td>1</td>\n",
       "      <td>0</td>\n",
       "      <td>-1.373337</td>\n",
       "      <td>-0.914627</td>\n",
       "      <td>-1.708457</td>\n",
       "    </tr>\n",
       "    <tr>\n",
       "      <th>4</th>\n",
       "      <td>1</td>\n",
       "      <td>1</td>\n",
       "      <td>1</td>\n",
       "      <td>0</td>\n",
       "      <td>0</td>\n",
       "      <td>0.648868</td>\n",
       "      <td>0.595000</td>\n",
       "      <td>0.440278</td>\n",
       "    </tr>\n",
       "    <tr>\n",
       "      <th>...</th>\n",
       "      <td>...</td>\n",
       "      <td>...</td>\n",
       "      <td>...</td>\n",
       "      <td>...</td>\n",
       "      <td>...</td>\n",
       "      <td>...</td>\n",
       "      <td>...</td>\n",
       "      <td>...</td>\n",
       "    </tr>\n",
       "    <tr>\n",
       "      <th>995</th>\n",
       "      <td>0</td>\n",
       "      <td>4</td>\n",
       "      <td>2</td>\n",
       "      <td>0</td>\n",
       "      <td>1</td>\n",
       "      <td>1.485643</td>\n",
       "      <td>2.104627</td>\n",
       "      <td>1.826558</td>\n",
       "    </tr>\n",
       "    <tr>\n",
       "      <th>996</th>\n",
       "      <td>1</td>\n",
       "      <td>1</td>\n",
       "      <td>4</td>\n",
       "      <td>1</td>\n",
       "      <td>0</td>\n",
       "      <td>-0.327369</td>\n",
       "      <td>-1.058402</td>\n",
       "      <td>-0.946003</td>\n",
       "    </tr>\n",
       "    <tr>\n",
       "      <th>997</th>\n",
       "      <td>0</td>\n",
       "      <td>1</td>\n",
       "      <td>4</td>\n",
       "      <td>1</td>\n",
       "      <td>1</td>\n",
       "      <td>-0.536563</td>\n",
       "      <td>0.091791</td>\n",
       "      <td>-0.252863</td>\n",
       "    </tr>\n",
       "    <tr>\n",
       "      <th>998</th>\n",
       "      <td>0</td>\n",
       "      <td>3</td>\n",
       "      <td>1</td>\n",
       "      <td>0</td>\n",
       "      <td>1</td>\n",
       "      <td>0.091018</td>\n",
       "      <td>0.595000</td>\n",
       "      <td>0.578906</td>\n",
       "    </tr>\n",
       "    <tr>\n",
       "      <th>999</th>\n",
       "      <td>0</td>\n",
       "      <td>3</td>\n",
       "      <td>1</td>\n",
       "      <td>1</td>\n",
       "      <td>0</td>\n",
       "      <td>0.718599</td>\n",
       "      <td>1.170096</td>\n",
       "      <td>1.202732</td>\n",
       "    </tr>\n",
       "  </tbody>\n",
       "</table>\n",
       "<p>986 rows × 8 columns</p>\n",
       "</div>"
      ],
      "text/plain": [
       "    gender race parent_edu lunch test_course  math_score  reading_score  \\\n",
       "0        0    0          0     0           0    0.369943       0.163678   \n",
       "1        0    1          1     0           1    0.160750       1.457644   \n",
       "2        0    0          2     0           0    1.625105       1.817079   \n",
       "3        1    2          3     1           0   -1.373337      -0.914627   \n",
       "4        1    1          1     0           0    0.648868       0.595000   \n",
       "..     ...  ...        ...   ...         ...         ...            ...   \n",
       "995      0    4          2     0           1    1.485643       2.104627   \n",
       "996      1    1          4     1           0   -0.327369      -1.058402   \n",
       "997      0    1          4     1           1   -0.536563       0.091791   \n",
       "998      0    3          1     0           1    0.091018       0.595000   \n",
       "999      0    3          1     1           0    0.718599       1.170096   \n",
       "\n",
       "     writing_score  \n",
       "0         0.370964  \n",
       "1         1.341360  \n",
       "2         1.687930  \n",
       "3        -1.708457  \n",
       "4         0.440278  \n",
       "..             ...  \n",
       "995       1.826558  \n",
       "996      -0.946003  \n",
       "997      -0.252863  \n",
       "998       0.578906  \n",
       "999       1.202732  \n",
       "\n",
       "[986 rows x 8 columns]"
      ]
     },
     "execution_count": 23,
     "metadata": {},
     "output_type": "execute_result"
    }
   ],
   "source": [
    "df"
   ]
  },
  {
   "cell_type": "code",
   "execution_count": 24,
   "id": "da131d1c-3346-44c2-bdef-7407937c22d2",
   "metadata": {},
   "outputs": [
    {
     "data": {
      "text/html": [
       "<div>\n",
       "<style scoped>\n",
       "    .dataframe tbody tr th:only-of-type {\n",
       "        vertical-align: middle;\n",
       "    }\n",
       "\n",
       "    .dataframe tbody tr th {\n",
       "        vertical-align: top;\n",
       "    }\n",
       "\n",
       "    .dataframe thead th {\n",
       "        text-align: right;\n",
       "    }\n",
       "</style>\n",
       "<table border=\"1\" class=\"dataframe\">\n",
       "  <thead>\n",
       "    <tr style=\"text-align: right;\">\n",
       "      <th></th>\n",
       "      <th>math_score</th>\n",
       "      <th>reading_score</th>\n",
       "      <th>writing_score</th>\n",
       "    </tr>\n",
       "  </thead>\n",
       "  <tbody>\n",
       "    <tr>\n",
       "      <th>count</th>\n",
       "      <td>9.860000e+02</td>\n",
       "      <td>9.860000e+02</td>\n",
       "      <td>9.860000e+02</td>\n",
       "    </tr>\n",
       "    <tr>\n",
       "      <th>mean</th>\n",
       "      <td>-4.612042e-16</td>\n",
       "      <td>-9.728526e-17</td>\n",
       "      <td>-7.206316e-17</td>\n",
       "    </tr>\n",
       "    <tr>\n",
       "      <th>std</th>\n",
       "      <td>1.000000e+00</td>\n",
       "      <td>1.000000e+00</td>\n",
       "      <td>1.000000e+00</td>\n",
       "    </tr>\n",
       "    <tr>\n",
       "      <th>min</th>\n",
       "      <td>-2.767961e+00</td>\n",
       "      <td>-2.783690e+00</td>\n",
       "      <td>-2.540226e+00</td>\n",
       "    </tr>\n",
       "    <tr>\n",
       "      <th>25%</th>\n",
       "      <td>-6.760250e-01</td>\n",
       "      <td>-6.989664e-01</td>\n",
       "      <td>-7.380609e-01</td>\n",
       "    </tr>\n",
       "    <tr>\n",
       "      <th>50%</th>\n",
       "      <td>-1.357849e-02</td>\n",
       "      <td>1.990381e-02</td>\n",
       "      <td>2.439348e-02</td>\n",
       "    </tr>\n",
       "    <tr>\n",
       "      <th>75%</th>\n",
       "      <td>7.185992e-01</td>\n",
       "      <td>7.387740e-01</td>\n",
       "      <td>7.175338e-01</td>\n",
       "    </tr>\n",
       "    <tr>\n",
       "      <th>max</th>\n",
       "      <td>2.322417e+00</td>\n",
       "      <td>2.176515e+00</td>\n",
       "      <td>2.173129e+00</td>\n",
       "    </tr>\n",
       "  </tbody>\n",
       "</table>\n",
       "</div>"
      ],
      "text/plain": [
       "         math_score  reading_score  writing_score\n",
       "count  9.860000e+02   9.860000e+02   9.860000e+02\n",
       "mean  -4.612042e-16  -9.728526e-17  -7.206316e-17\n",
       "std    1.000000e+00   1.000000e+00   1.000000e+00\n",
       "min   -2.767961e+00  -2.783690e+00  -2.540226e+00\n",
       "25%   -6.760250e-01  -6.989664e-01  -7.380609e-01\n",
       "50%   -1.357849e-02   1.990381e-02   2.439348e-02\n",
       "75%    7.185992e-01   7.387740e-01   7.175338e-01\n",
       "max    2.322417e+00   2.176515e+00   2.173129e+00"
      ]
     },
     "execution_count": 24,
     "metadata": {},
     "output_type": "execute_result"
    }
   ],
   "source": [
    "df.describe()"
   ]
  },
  {
   "cell_type": "markdown",
   "id": "f3c9d3ce-ea2a-4254-b589-6f4b3c121f46",
   "metadata": {},
   "source": [
    "####  Log‐Transform to Reduce Skewness (Data is not that skewed so not needed)"
   ]
  },
  {
   "cell_type": "code",
   "execution_count": 25,
   "id": "6d3ea811-a45e-466e-b257-6d5282c76522",
   "metadata": {
    "scrolled": true
   },
   "outputs": [
    {
     "name": "stdout",
     "output_type": "stream",
     "text": [
      "Skew before :  -0.025973742584033038\n",
      "Skew after :  -1.4901852948247267\n"
     ]
    },
    {
     "name": "stderr",
     "output_type": "stream",
     "text": [
      "/Users/niranjan/Documents/venv/lib/python3.9/site-packages/pandas/core/arraylike.py:399: RuntimeWarning: invalid value encountered in log1p\n",
      "  result = getattr(ufunc, method)(*inputs, **kwargs)\n"
     ]
    }
   ],
   "source": [
    "print(\"Skew before : \", df[\"math_score\"].skew());\n",
    "df[\"log_score\"] = np.log1p(df[\"math_score\"]);\n",
    "print(\"Skew after : \", df[\"log_score\"].skew());"
   ]
  }
 ],
 "metadata": {
  "kernelspec": {
   "display_name": "Python 3 (ipykernel)",
   "language": "python",
   "name": "python3"
  },
  "language_info": {
   "codemirror_mode": {
    "name": "ipython",
    "version": 3
   },
   "file_extension": ".py",
   "mimetype": "text/x-python",
   "name": "python",
   "nbconvert_exporter": "python",
   "pygments_lexer": "ipython3",
   "version": "3.9.6"
  }
 },
 "nbformat": 4,
 "nbformat_minor": 5
}
