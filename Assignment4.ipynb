{
 "cells": [
  {
   "cell_type": "markdown",
   "id": "7af450fe-409d-4f35-bba8-6ee22227f453",
   "metadata": {},
   "source": [
    "#### 4. Data Visualization I"
   ]
  },
  {
   "cell_type": "markdown",
   "id": "697182c8-2671-4515-bb81-3f274d609f01",
   "metadata": {},
   "source": [
    "#### 4.1 Use the inbuilt dataset 'titanic'. The dataset contains 891 rows and contains information about the passengers who boarded the unfortunate Titanic ship. Use the Seaborn library to see if we can find any patterns in the data.\n",
    "#### 4.2 Write a code to check how the price of the ticket (column name: 'fare') for each passenger is distributed by plotting a histogram."
   ]
  },
  {
   "cell_type": "markdown",
   "id": "a26041c4-0d72-479d-9753-12d9c71c6f1d",
   "metadata": {},
   "source": [
    "#### Preprocessing the data "
   ]
  },
  {
   "cell_type": "code",
   "execution_count": 7,
   "id": "c5688b94-3ced-468d-9e89-4348b12069b4",
   "metadata": {},
   "outputs": [],
   "source": [
    "import pandas as pd\n",
    "import numpy as np\n",
    "import seaborn as sns\n",
    "import matplotlib.pyplot as plt"
   ]
  },
  {
   "cell_type": "code",
   "execution_count": 8,
   "id": "d1acfd0f-0e71-48b6-9768-34be2f29f162",
   "metadata": {},
   "outputs": [
    {
     "data": {
      "text/html": [
       "<div>\n",
       "<style scoped>\n",
       "    .dataframe tbody tr th:only-of-type {\n",
       "        vertical-align: middle;\n",
       "    }\n",
       "\n",
       "    .dataframe tbody tr th {\n",
       "        vertical-align: top;\n",
       "    }\n",
       "\n",
       "    .dataframe thead th {\n",
       "        text-align: right;\n",
       "    }\n",
       "</style>\n",
       "<table border=\"1\" class=\"dataframe\">\n",
       "  <thead>\n",
       "    <tr style=\"text-align: right;\">\n",
       "      <th></th>\n",
       "      <th>PassengerId</th>\n",
       "      <th>Survived</th>\n",
       "      <th>Pclass</th>\n",
       "      <th>Name</th>\n",
       "      <th>Sex</th>\n",
       "      <th>Age</th>\n",
       "      <th>SibSp</th>\n",
       "      <th>Parch</th>\n",
       "      <th>Ticket</th>\n",
       "      <th>Fare</th>\n",
       "      <th>Cabin</th>\n",
       "      <th>Embarked</th>\n",
       "    </tr>\n",
       "  </thead>\n",
       "  <tbody>\n",
       "    <tr>\n",
       "      <th>0</th>\n",
       "      <td>1</td>\n",
       "      <td>0</td>\n",
       "      <td>3</td>\n",
       "      <td>Braund, Mr. Owen Harris</td>\n",
       "      <td>male</td>\n",
       "      <td>22.0</td>\n",
       "      <td>1</td>\n",
       "      <td>0</td>\n",
       "      <td>A/5 21171</td>\n",
       "      <td>7.2500</td>\n",
       "      <td>NaN</td>\n",
       "      <td>S</td>\n",
       "    </tr>\n",
       "    <tr>\n",
       "      <th>1</th>\n",
       "      <td>2</td>\n",
       "      <td>1</td>\n",
       "      <td>1</td>\n",
       "      <td>Cumings, Mrs. John Bradley (Florence Briggs Th...</td>\n",
       "      <td>female</td>\n",
       "      <td>38.0</td>\n",
       "      <td>1</td>\n",
       "      <td>0</td>\n",
       "      <td>PC 17599</td>\n",
       "      <td>71.2833</td>\n",
       "      <td>C85</td>\n",
       "      <td>C</td>\n",
       "    </tr>\n",
       "    <tr>\n",
       "      <th>2</th>\n",
       "      <td>3</td>\n",
       "      <td>1</td>\n",
       "      <td>3</td>\n",
       "      <td>Heikkinen, Miss. Laina</td>\n",
       "      <td>female</td>\n",
       "      <td>26.0</td>\n",
       "      <td>0</td>\n",
       "      <td>0</td>\n",
       "      <td>STON/O2. 3101282</td>\n",
       "      <td>7.9250</td>\n",
       "      <td>NaN</td>\n",
       "      <td>S</td>\n",
       "    </tr>\n",
       "    <tr>\n",
       "      <th>3</th>\n",
       "      <td>4</td>\n",
       "      <td>1</td>\n",
       "      <td>1</td>\n",
       "      <td>Futrelle, Mrs. Jacques Heath (Lily May Peel)</td>\n",
       "      <td>female</td>\n",
       "      <td>35.0</td>\n",
       "      <td>1</td>\n",
       "      <td>0</td>\n",
       "      <td>113803</td>\n",
       "      <td>53.1000</td>\n",
       "      <td>C123</td>\n",
       "      <td>S</td>\n",
       "    </tr>\n",
       "    <tr>\n",
       "      <th>4</th>\n",
       "      <td>5</td>\n",
       "      <td>0</td>\n",
       "      <td>3</td>\n",
       "      <td>Allen, Mr. William Henry</td>\n",
       "      <td>male</td>\n",
       "      <td>35.0</td>\n",
       "      <td>0</td>\n",
       "      <td>0</td>\n",
       "      <td>373450</td>\n",
       "      <td>8.0500</td>\n",
       "      <td>NaN</td>\n",
       "      <td>S</td>\n",
       "    </tr>\n",
       "  </tbody>\n",
       "</table>\n",
       "</div>"
      ],
      "text/plain": [
       "   PassengerId  Survived  Pclass  \\\n",
       "0            1         0       3   \n",
       "1            2         1       1   \n",
       "2            3         1       3   \n",
       "3            4         1       1   \n",
       "4            5         0       3   \n",
       "\n",
       "                                                Name     Sex   Age  SibSp  \\\n",
       "0                            Braund, Mr. Owen Harris    male  22.0      1   \n",
       "1  Cumings, Mrs. John Bradley (Florence Briggs Th...  female  38.0      1   \n",
       "2                             Heikkinen, Miss. Laina  female  26.0      0   \n",
       "3       Futrelle, Mrs. Jacques Heath (Lily May Peel)  female  35.0      1   \n",
       "4                           Allen, Mr. William Henry    male  35.0      0   \n",
       "\n",
       "   Parch            Ticket     Fare Cabin Embarked  \n",
       "0      0         A/5 21171   7.2500   NaN        S  \n",
       "1      0          PC 17599  71.2833   C85        C  \n",
       "2      0  STON/O2. 3101282   7.9250   NaN        S  \n",
       "3      0            113803  53.1000  C123        S  \n",
       "4      0            373450   8.0500   NaN        S  "
      ]
     },
     "execution_count": 8,
     "metadata": {},
     "output_type": "execute_result"
    }
   ],
   "source": [
    "df = pd.read_csv(\"titanic.csv\");\n",
    "df.head()"
   ]
  },
  {
   "cell_type": "code",
   "execution_count": 9,
   "id": "b3c33d62-09c3-4aed-a997-eecf93fd22a6",
   "metadata": {},
   "outputs": [
    {
     "data": {
      "text/plain": [
       "PassengerId      int64\n",
       "Survived         int64\n",
       "Pclass           int64\n",
       "Name            object\n",
       "Sex             object\n",
       "Age            float64\n",
       "SibSp            int64\n",
       "Parch            int64\n",
       "Ticket          object\n",
       "Fare           float64\n",
       "Cabin           object\n",
       "Embarked        object\n",
       "dtype: object"
      ]
     },
     "execution_count": 9,
     "metadata": {},
     "output_type": "execute_result"
    }
   ],
   "source": [
    "df.dtypes"
   ]
  },
  {
   "cell_type": "code",
   "execution_count": 10,
   "id": "53822237-5b03-4255-af15-99414ab7ae7b",
   "metadata": {},
   "outputs": [],
   "source": [
    "df = df.astype({\n",
    "    \"Name\" : \"string\",\n",
    "    \"Sex\" : \"string\",\n",
    "    \"Ticket\" : \"string\",\n",
    "    \"Cabin\" : \"string\",\n",
    "    \"Embarked\" : \"string\"\n",
    "});"
   ]
  },
  {
   "cell_type": "code",
   "execution_count": 11,
   "id": "2b45b61b-17f8-47fa-a66c-3702f580a76c",
   "metadata": {},
   "outputs": [
    {
     "data": {
      "text/plain": [
       "PassengerId             int64\n",
       "Survived                int64\n",
       "Pclass                  int64\n",
       "Name           string[python]\n",
       "Sex            string[python]\n",
       "Age                   float64\n",
       "SibSp                   int64\n",
       "Parch                   int64\n",
       "Ticket         string[python]\n",
       "Fare                  float64\n",
       "Cabin          string[python]\n",
       "Embarked       string[python]\n",
       "dtype: object"
      ]
     },
     "execution_count": 11,
     "metadata": {},
     "output_type": "execute_result"
    }
   ],
   "source": [
    "df.dtypes"
   ]
  },
  {
   "cell_type": "markdown",
   "id": "7f5cf9a1-71d8-407a-92c9-3c18cf8cbb9c",
   "metadata": {},
   "source": [
    "#### Checking for missing values"
   ]
  },
  {
   "cell_type": "code",
   "execution_count": 12,
   "id": "90abe87e-8fe8-4810-a840-b51b4f8a6f22",
   "metadata": {},
   "outputs": [
    {
     "data": {
      "text/plain": [
       "PassengerId      0\n",
       "Survived         0\n",
       "Pclass           0\n",
       "Name             0\n",
       "Sex              0\n",
       "Age            177\n",
       "SibSp            0\n",
       "Parch            0\n",
       "Ticket           0\n",
       "Fare             0\n",
       "Cabin          687\n",
       "Embarked         2\n",
       "dtype: int64"
      ]
     },
     "execution_count": 12,
     "metadata": {},
     "output_type": "execute_result"
    }
   ],
   "source": [
    "df.isnull().sum()"
   ]
  },
  {
   "cell_type": "code",
   "execution_count": 13,
   "id": "d5d6ef49-79c1-4d63-b297-a79858be8536",
   "metadata": {},
   "outputs": [],
   "source": [
    "df[\"Age\"] = df[\"Age\"].fillna(df[\"Age\"].mean());\n",
    "df[\"Cabin\"] = df[\"Cabin\"].ffill();"
   ]
  },
  {
   "cell_type": "code",
   "execution_count": 14,
   "id": "c1e021a3-8175-4ed3-a8c2-e2b39ac7adf5",
   "metadata": {},
   "outputs": [
    {
     "data": {
      "text/plain": [
       "PassengerId    0\n",
       "Survived       0\n",
       "Pclass         0\n",
       "Name           0\n",
       "Sex            0\n",
       "Age            0\n",
       "SibSp          0\n",
       "Parch          0\n",
       "Ticket         0\n",
       "Fare           0\n",
       "Cabin          1\n",
       "Embarked       2\n",
       "dtype: int64"
      ]
     },
     "execution_count": 14,
     "metadata": {},
     "output_type": "execute_result"
    }
   ],
   "source": [
    "df.isnull().sum()"
   ]
  },
  {
   "cell_type": "code",
   "execution_count": 15,
   "id": "9b7920f2-c521-46ff-8d09-6b95da2098ba",
   "metadata": {},
   "outputs": [],
   "source": [
    "df.dropna(inplace=True)"
   ]
  },
  {
   "cell_type": "code",
   "execution_count": 16,
   "id": "a520df01-c91d-4b41-83f8-507e05015cdd",
   "metadata": {},
   "outputs": [
    {
     "data": {
      "text/plain": [
       "PassengerId    0\n",
       "Survived       0\n",
       "Pclass         0\n",
       "Name           0\n",
       "Sex            0\n",
       "Age            0\n",
       "SibSp          0\n",
       "Parch          0\n",
       "Ticket         0\n",
       "Fare           0\n",
       "Cabin          0\n",
       "Embarked       0\n",
       "dtype: int64"
      ]
     },
     "execution_count": 16,
     "metadata": {},
     "output_type": "execute_result"
    }
   ],
   "source": [
    "df.isnull().sum()"
   ]
  },
  {
   "cell_type": "markdown",
   "id": "051bb522-5fac-4f13-8c47-f90847a91f7d",
   "metadata": {},
   "source": [
    "#### 4.1 Use the inbuilt dataset 'titanic'. The dataset contains 891 rows and contains information about the passengers who boarded the unfortunate Titanic ship. Use the Seaborn library to see if we can find any patterns in the data."
   ]
  },
  {
   "cell_type": "markdown",
   "id": "1b3704c0-b348-4df0-b361-a7cb7d990cc5",
   "metadata": {},
   "source": [
    "#### 4.1.1 Visualization of attribute 'Pclass' based on target attribute 'survived'"
   ]
  },
  {
   "cell_type": "code",
   "execution_count": 18,
   "id": "40ab1370-8b45-4754-910d-355ad419308b",
   "metadata": {},
   "outputs": [
    {
     "data": {
      "text/plain": [
       "<Axes: xlabel='Pclass', ylabel='count'>"
      ]
     },
     "execution_count": 18,
     "metadata": {},
     "output_type": "execute_result"
    },
    {
     "data": {
      "image/png": "[encoded data removed]",
      "text/plain": [
       "<Figure size 640x480 with 1 Axes>"
      ]
     },
     "metadata": {},
     "output_type": "display_data"
    }
   ],
   "source": [
    "sns.countplot(data = df, x = \"Pclass\", hue = \"Survived\")"
   ]
  },
  {
   "cell_type": "markdown",
   "id": "2ad41d21-1883-459f-a5e9-0c67c9cf4c21",
   "metadata": {},
   "source": [
    "#### Observation : Class 3 passengers survived the least and Class 1 passengers survived the most"
   ]
  },
  {
   "cell_type": "markdown",
   "id": "9e6bab58-716e-47ad-8c74-76cadc0005f4",
   "metadata": {},
   "source": [
    "#### 4.1.2 Visualization of attribute 'Sex' based on target attribute 'survived'"
   ]
  },
  {
   "cell_type": "code",
   "execution_count": 19,
   "id": "1ba7e0b6-c499-4635-b9a7-c411b3b4eae0",
   "metadata": {},
   "outputs": [
    {
     "data": {
      "text/plain": [
       "<Axes: xlabel='Sex', ylabel='count'>"
      ]
     },
     "execution_count": 19,
     "metadata": {},
     "output_type": "execute_result"
    },
    {
     "data": {
      "image/png": "[encoded data removed]",
      "text/plain": [
       "<Figure size 640x480 with 1 Axes>"
      ]
     },
     "metadata": {},
     "output_type": "display_data"
    }
   ],
   "source": [
    "sns.countplot(data = df, x = \"Sex\", hue = \"Survived\")"
   ]
  },
  {
   "cell_type": "markdown",
   "id": "a6b0b3d0-970d-46e0-8cac-205b600bef5d",
   "metadata": {},
   "source": [
    "#### Observation : Female passengers survived the most and Male passengers survived the least"
   ]
  },
  {
   "cell_type": "markdown",
   "id": "c77b7d1d-d388-4276-bd48-7c1508a58c23",
   "metadata": {},
   "source": [
    "#### 4.1.3 Visualization of attribute 'Age' based on target attribute 'survived'"
   ]
  },
  {
   "cell_type": "code",
   "execution_count": 23,
   "id": "99d6ca19-ab70-466d-b490-fbd4ae5b1c17",
   "metadata": {},
   "outputs": [
    {
     "name": "stdout",
     "output_type": "stream",
     "text": [
      "count    548.000000\n",
      "mean      30.430456\n",
      "std       12.463550\n",
      "min        1.000000\n",
      "25%       23.000000\n",
      "50%       29.699118\n",
      "75%       35.000000\n",
      "max       74.000000\n",
      "Name: Age, dtype: float64\n",
      "count    340.000000\n",
      "mean      28.423600\n",
      "std       13.682862\n",
      "min        0.420000\n",
      "25%       21.000000\n",
      "50%       29.699118\n",
      "75%       35.000000\n",
      "max       80.000000\n",
      "Name: Age, dtype: float64\n"
     ]
    },
    {
     "data": {
      "text/plain": [
       "<Axes: xlabel='Survived', ylabel='Age'>"
      ]
     },
     "execution_count": 23,
     "metadata": {},
     "output_type": "execute_result"
    },
    {
     "data": {
      "image/png": "[encoded data removed]",
      "text/plain": [
       "<Figure size 640x480 with 1 Axes>"
      ]
     },
     "metadata": {},
     "output_type": "display_data"
    }
   ],
   "source": [
    "print( df.loc[df[\"Survived\"] == 0, \"Age\"].describe() )\n",
    "print( df.loc[df[\"Survived\"] == 1, \"Age\"].describe() )\n",
    "sns.boxplot(data = df, x = \"Survived\" ,y = \"Age\") #See this "
   ]
  },
  {
   "cell_type": "markdown",
   "id": "2d1da701-d472-45ce-932c-58152599a8fd",
   "metadata": {},
   "source": [
    "#### Observation : The distribution of survival of male and female is almost the same statistically"
   ]
  },
  {
   "cell_type": "markdown",
   "id": "ff24fadf-0dcc-4f8d-91b0-699508824760",
   "metadata": {},
   "source": [
    "#### 4.1.4 Visualization of attribute 'Embarked' based on target attribute 'survived'"
   ]
  },
  {
   "cell_type": "code",
   "execution_count": 25,
   "id": "4ed8dde0-dbca-4d38-9239-7972a3c1d004",
   "metadata": {},
   "outputs": [
    {
     "data": {
      "text/plain": [
       "<Axes: xlabel='Embarked', ylabel='count'>"
      ]
     },
     "execution_count": 25,
     "metadata": {},
     "output_type": "execute_result"
    },
    {
     "data": {
      "image/png": "[encoded data removed]",
      "text/plain": [
       "<Figure size 640x480 with 1 Axes>"
      ]
     },
     "metadata": {},
     "output_type": "display_data"
    }
   ],
   "source": [
    "sns.countplot(data = df, x = \"Embarked\", hue = \"Survived\")"
   ]
  },
  {
   "cell_type": "markdown",
   "id": "d2437580-5028-42ab-81e8-0e9d7ecfcfa5",
   "metadata": {},
   "source": [
    "#### Observation : Most of the poeple who survived or not emabarked from Southampton"
   ]
  },
  {
   "cell_type": "markdown",
   "id": "74ac6ae5-dfbe-4b33-b706-9bd9d97ad7ea",
   "metadata": {},
   "source": [
    "#### 4.1.5 Visualization of attribute 'SibSp' based on target attribute 'survived'"
   ]
  },
  {
   "cell_type": "code",
   "execution_count": 26,
   "id": "d5afb6c3-5583-40e6-bc4e-50d7329f6aca",
   "metadata": {},
   "outputs": [
    {
     "data": {
      "text/plain": [
       "<Axes: xlabel='SibSp', ylabel='count'>"
      ]
     },
     "execution_count": 26,
     "metadata": {},
     "output_type": "execute_result"
    },
    {
     "data": {
      "image/png": "[encoded data removed]",
      "text/plain": [
       "<Figure size 640x480 with 1 Axes>"
      ]
     },
     "metadata": {},
     "output_type": "display_data"
    }
   ],
   "source": [
    "sns.countplot(data = df, x = \"SibSp\", hue = \"Survived\")"
   ]
  },
  {
   "cell_type": "markdown",
   "id": "fbd5be8a-3268-44fe-9167-db759fc657d0",
   "metadata": {},
   "source": [
    "#### Observation : Most of the people who boarded titanic didnt had a sibling or spouse"
   ]
  },
  {
   "cell_type": "markdown",
   "id": "2ea3b033-1b66-45af-b916-42ae39acaa1e",
   "metadata": {},
   "source": [
    "#### 4.1.6 Visualization of attribute 'Parch' based on target attribute 'survived'"
   ]
  },
  {
   "cell_type": "code",
   "execution_count": 27,
   "id": "05a6fb2e-722b-4d7a-8d0e-94737bba030d",
   "metadata": {},
   "outputs": [
    {
     "data": {
      "text/plain": [
       "<Axes: xlabel='Parch', ylabel='count'>"
      ]
     },
     "execution_count": 27,
     "metadata": {},
     "output_type": "execute_result"
    },
    {
     "data": {
      "image/png": "[encoded data removed]",
      "text/plain": [
       "<Figure size 640x480 with 1 Axes>"
      ]
     },
     "metadata": {},
     "output_type": "display_data"
    }
   ],
   "source": [
    "sns.countplot(data = df, x = \"Parch\", hue = \"Survived\")"
   ]
  },
  {
   "cell_type": "markdown",
   "id": "07bd86b5-c805-4301-8502-04159f5861e2",
   "metadata": {},
   "source": [
    "#### Observation : Most of the people who boarded titanic didnt had a parent or a children"
   ]
  },
  {
   "cell_type": "markdown",
   "id": "e2631dcd-efab-433a-8cd4-9f5760492a6d",
   "metadata": {},
   "source": [
    "#### 4.2 Write a code to check how the price of the ticket (column name: 'fare') for each passenger is distributed by plotting a histogram."
   ]
  },
  {
   "cell_type": "code",
   "execution_count": 29,
   "id": "403d4b9a-6920-4909-91a8-9d09a4950e41",
   "metadata": {},
   "outputs": [
    {
     "data": {
      "text/plain": [
       "<Axes: xlabel='Fare', ylabel='Count'>"
      ]
     },
     "execution_count": 29,
     "metadata": {},
     "output_type": "execute_result"
    },
    {
     "data": {
      "image/png": "[encoded data removed]",
      "text/plain": [
       "<Figure size 640x480 with 1 Axes>"
      ]
     },
     "metadata": {},
     "output_type": "display_data"
    }
   ],
   "source": [
    "sns.histplot(data = df,x = \"Fare\")"
   ]
  },
  {
   "cell_type": "markdown",
   "id": "79e57930-61f8-4211-a2fe-9c95333b32b7",
   "metadata": {},
   "source": [
    "#### Observation : Majority of the people who boarded titanix has a ticket of less then $100"
   ]
  }
 ],
 "metadata": {
  "kernelspec": {
   "display_name": "Python 3 (ipykernel)",
   "language": "python",
   "name": "python3"
  },
  "language_info": {
   "codemirror_mode": {
    "name": "ipython",
    "version": 3
   },
   "file_extension": ".py",
   "mimetype": "text/x-python",
   "name": "python",
   "nbconvert_exporter": "python",
   "pygments_lexer": "ipython3",
   "version": "3.9.6"
  }
 },
 "nbformat": 4,
 "nbformat_minor": 5
}
